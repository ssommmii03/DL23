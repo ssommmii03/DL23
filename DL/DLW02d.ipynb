{
  "nbformat": 4,
  "nbformat_minor": 0,
  "metadata": {
    "colab": {
      "provenance": [],
      "include_colab_link": true
    },
    "kernelspec": {
      "name": "python3",
      "display_name": "Python 3"
    },
    "language_info": {
      "name": "python"
    }
  },
  "cells": [
    {
      "cell_type": "markdown",
      "metadata": {
        "id": "view-in-github",
        "colab_type": "text"
      },
      "source": [
        "<a href=\"https://colab.research.google.com/github/ssommmii03/DL23/blob/main/DL/DLW02d.ipynb\" target=\"_parent\"><img src=\"https://colab.research.google.com/assets/colab-badge.svg\" alt=\"Open In Colab\"/></a>"
      ]
    },
    {
      "cell_type": "markdown",
      "source": [
        "---\n",
        "# 📗 Topic [2]: Coding basic #2\n",
        "---\n",
        "Keywords:\n",
        "\n",
        "+ variables\n",
        "+ **operators**\n",
        "+ **data types: list and dictionary**"
      ],
      "metadata": {
        "id": "k4A5_MYHpcNQ"
      }
    },
    {
      "cell_type": "markdown",
      "source": [
        "Your github IDs [here](https://docs.google.com/spreadsheets/d/17SX51lCqOdtvC7cAGoX5tP9fKwVdGY5sRzMg2pXh9uk/edit#gid=0) - revised 0327"
      ],
      "metadata": {
        "id": "mUVgzk50XMkt"
      }
    },
    {
      "cell_type": "markdown",
      "source": [
        "## [1] Variables"
      ],
      "metadata": {
        "id": "93gQaEo1RX63"
      }
    },
    {
      "cell_type": "markdown",
      "source": [
        "+ **A variable** is a named storage location that holds a value.\n",
        "- **변수**는 값을 포함하는 명명된 저장 위치입니다.\n",
        "+ Variables can be used **to store values** such as numbers, strings, lists, or other data types.\n",
        "- 변수는 숫자, 문자열, 목록 또는 기타 데이터 유형과 같은 **값을 저장**하는 데 사용할 수 있습니다.\n",
        "+ The value of a variable can change throughout the execution of a program.\n",
        "- 변수의 값은 프로그램을 실행하는 동안 변경될 수 있습니다.\n",
        "+ To declare a variable in Python, you need to assign a value to it using the **equal (=) sign.**\n",
        "- Python에서 변수를 선언하려면 **equal (=) 기호를 사용하여 변수에 값을 할당해야 합니다.**"
      ],
      "metadata": {
        "id": "jJT4hD1teuJr"
      }
    },
    {
      "cell_type": "code",
      "source": [
        "x = 10\n",
        "y = \"Hello, class!\"\n",
        "z = [1, 2, 3]"
      ],
      "metadata": {
        "id": "Xes87bY2X45M"
      },
      "execution_count": null,
      "outputs": []
    },
    {
      "cell_type": "markdown",
      "source": [
        "↗️ In the above example, 'x' is assigned the value of 10, 'y' is assigned the value of \"Hello, World!\", and 'z' is assigned the value of [1, 2, 3]."
      ],
      "metadata": {
        "id": "ulw6QsP5ZiKp"
      }
    },
    {
      "cell_type": "code",
      "source": [
        "# We can assign a link or a function\n",
        "import pandas as pd\n",
        "url = \"https://github.com/MK316/Spring2023/raw/main/data/att_sample.csv\"\n",
        "data = pd.read_csv(url)\n",
        "data"
      ],
      "metadata": {
        "id": "_7bvpJt2aQmg",
        "outputId": "61914dd3-894e-4774-d9af-66f98d93219b",
        "colab": {
          "base_uri": "https://localhost:8080/",
          "height": 488
        }
      },
      "execution_count": null,
      "outputs": [
        {
          "output_type": "execute_result",
          "data": {
            "text/plain": [
              "      Names\n",
              "0      Mary\n",
              "1      John\n",
              "2       Tim\n",
              "3       Bob\n",
              "4     Sarah\n",
              "5      Kate\n",
              "6     Marie\n",
              "7   Johnson\n",
              "8      Mike\n",
              "9     Harry\n",
              "10      Jin\n",
              "11      Sam\n",
              "12     Paul\n",
              "13  Natalie"
            ],
            "text/html": [
              "\n",
              "  <div id=\"df-f26ae48d-3231-4035-8d4f-dfd715a11fc1\">\n",
              "    <div class=\"colab-df-container\">\n",
              "      <div>\n",
              "<style scoped>\n",
              "    .dataframe tbody tr th:only-of-type {\n",
              "        vertical-align: middle;\n",
              "    }\n",
              "\n",
              "    .dataframe tbody tr th {\n",
              "        vertical-align: top;\n",
              "    }\n",
              "\n",
              "    .dataframe thead th {\n",
              "        text-align: right;\n",
              "    }\n",
              "</style>\n",
              "<table border=\"1\" class=\"dataframe\">\n",
              "  <thead>\n",
              "    <tr style=\"text-align: right;\">\n",
              "      <th></th>\n",
              "      <th>Names</th>\n",
              "    </tr>\n",
              "  </thead>\n",
              "  <tbody>\n",
              "    <tr>\n",
              "      <th>0</th>\n",
              "      <td>Mary</td>\n",
              "    </tr>\n",
              "    <tr>\n",
              "      <th>1</th>\n",
              "      <td>John</td>\n",
              "    </tr>\n",
              "    <tr>\n",
              "      <th>2</th>\n",
              "      <td>Tim</td>\n",
              "    </tr>\n",
              "    <tr>\n",
              "      <th>3</th>\n",
              "      <td>Bob</td>\n",
              "    </tr>\n",
              "    <tr>\n",
              "      <th>4</th>\n",
              "      <td>Sarah</td>\n",
              "    </tr>\n",
              "    <tr>\n",
              "      <th>5</th>\n",
              "      <td>Kate</td>\n",
              "    </tr>\n",
              "    <tr>\n",
              "      <th>6</th>\n",
              "      <td>Marie</td>\n",
              "    </tr>\n",
              "    <tr>\n",
              "      <th>7</th>\n",
              "      <td>Johnson</td>\n",
              "    </tr>\n",
              "    <tr>\n",
              "      <th>8</th>\n",
              "      <td>Mike</td>\n",
              "    </tr>\n",
              "    <tr>\n",
              "      <th>9</th>\n",
              "      <td>Harry</td>\n",
              "    </tr>\n",
              "    <tr>\n",
              "      <th>10</th>\n",
              "      <td>Jin</td>\n",
              "    </tr>\n",
              "    <tr>\n",
              "      <th>11</th>\n",
              "      <td>Sam</td>\n",
              "    </tr>\n",
              "    <tr>\n",
              "      <th>12</th>\n",
              "      <td>Paul</td>\n",
              "    </tr>\n",
              "    <tr>\n",
              "      <th>13</th>\n",
              "      <td>Natalie</td>\n",
              "    </tr>\n",
              "  </tbody>\n",
              "</table>\n",
              "</div>\n",
              "      <button class=\"colab-df-convert\" onclick=\"convertToInteractive('df-f26ae48d-3231-4035-8d4f-dfd715a11fc1')\"\n",
              "              title=\"Convert this dataframe to an interactive table.\"\n",
              "              style=\"display:none;\">\n",
              "        \n",
              "  <svg xmlns=\"http://www.w3.org/2000/svg\" height=\"24px\"viewBox=\"0 0 24 24\"\n",
              "       width=\"24px\">\n",
              "    <path d=\"M0 0h24v24H0V0z\" fill=\"none\"/>\n",
              "    <path d=\"M18.56 5.44l.94 2.06.94-2.06 2.06-.94-2.06-.94-.94-2.06-.94 2.06-2.06.94zm-11 1L8.5 8.5l.94-2.06 2.06-.94-2.06-.94L8.5 2.5l-.94 2.06-2.06.94zm10 10l.94 2.06.94-2.06 2.06-.94-2.06-.94-.94-2.06-.94 2.06-2.06.94z\"/><path d=\"M17.41 7.96l-1.37-1.37c-.4-.4-.92-.59-1.43-.59-.52 0-1.04.2-1.43.59L10.3 9.45l-7.72 7.72c-.78.78-.78 2.05 0 2.83L4 21.41c.39.39.9.59 1.41.59.51 0 1.02-.2 1.41-.59l7.78-7.78 2.81-2.81c.8-.78.8-2.07 0-2.86zM5.41 20L4 18.59l7.72-7.72 1.47 1.35L5.41 20z\"/>\n",
              "  </svg>\n",
              "      </button>\n",
              "      \n",
              "  <style>\n",
              "    .colab-df-container {\n",
              "      display:flex;\n",
              "      flex-wrap:wrap;\n",
              "      gap: 12px;\n",
              "    }\n",
              "\n",
              "    .colab-df-convert {\n",
              "      background-color: #E8F0FE;\n",
              "      border: none;\n",
              "      border-radius: 50%;\n",
              "      cursor: pointer;\n",
              "      display: none;\n",
              "      fill: #1967D2;\n",
              "      height: 32px;\n",
              "      padding: 0 0 0 0;\n",
              "      width: 32px;\n",
              "    }\n",
              "\n",
              "    .colab-df-convert:hover {\n",
              "      background-color: #E2EBFA;\n",
              "      box-shadow: 0px 1px 2px rgba(60, 64, 67, 0.3), 0px 1px 3px 1px rgba(60, 64, 67, 0.15);\n",
              "      fill: #174EA6;\n",
              "    }\n",
              "\n",
              "    [theme=dark] .colab-df-convert {\n",
              "      background-color: #3B4455;\n",
              "      fill: #D2E3FC;\n",
              "    }\n",
              "\n",
              "    [theme=dark] .colab-df-convert:hover {\n",
              "      background-color: #434B5C;\n",
              "      box-shadow: 0px 1px 3px 1px rgba(0, 0, 0, 0.15);\n",
              "      filter: drop-shadow(0px 1px 2px rgba(0, 0, 0, 0.3));\n",
              "      fill: #FFFFFF;\n",
              "    }\n",
              "  </style>\n",
              "\n",
              "      <script>\n",
              "        const buttonEl =\n",
              "          document.querySelector('#df-f26ae48d-3231-4035-8d4f-dfd715a11fc1 button.colab-df-convert');\n",
              "        buttonEl.style.display =\n",
              "          google.colab.kernel.accessAllowed ? 'block' : 'none';\n",
              "\n",
              "        async function convertToInteractive(key) {\n",
              "          const element = document.querySelector('#df-f26ae48d-3231-4035-8d4f-dfd715a11fc1');\n",
              "          const dataTable =\n",
              "            await google.colab.kernel.invokeFunction('convertToInteractive',\n",
              "                                                     [key], {});\n",
              "          if (!dataTable) return;\n",
              "\n",
              "          const docLinkHtml = 'Like what you see? Visit the ' +\n",
              "            '<a target=\"_blank\" href=https://colab.research.google.com/notebooks/data_table.ipynb>data table notebook</a>'\n",
              "            + ' to learn more about interactive tables.';\n",
              "          element.innerHTML = '';\n",
              "          dataTable['output_type'] = 'display_data';\n",
              "          await google.colab.output.renderOutput(dataTable, element);\n",
              "          const docLink = document.createElement('div');\n",
              "          docLink.innerHTML = docLinkHtml;\n",
              "          element.appendChild(docLink);\n",
              "        }\n",
              "      </script>\n",
              "    </div>\n",
              "  </div>\n",
              "  "
            ]
          },
          "metadata": {},
          "execution_count": 1
        }
      ]
    },
    {
      "cell_type": "markdown",
      "source": [
        "## Commenting '#'\n",
        "\n",
        "- In Python, the # symbol is used to indicate comment lines. A comment is a line of text in a code that is ignored by the Python interpreter and is used to provide explanations or notes for the reader of the code.\n",
        "- Python에서 # 기호는 주석 행을 나타내는 데 사용됩니다. 주석은 Python 인터프리터가 무시하는 코드의 텍스트 줄이며 코드 판독기에 대한 설명이나 참고 사항을 제공하는 데 사용됩니다.\n",
        "\n",
        "## Uncommenting shortcut: \n",
        "* \"Ctrl + /\" (Place the cursor on the code line and press the Control + / key.)\n",
        "- \"Ctrl + /\" (커서를 코드 라인 위에 놓고 Control + / 키를 누릅니다.)"
      ],
      "metadata": {
        "id": "xZv9R8I8ZWvt"
      }
    },
    {
      "cell_type": "code",
      "source": [
        "# This is a comment in Python\n",
        "# x = 10 # this is also a comment"
      ],
      "metadata": {
        "id": "7UJmbmmTaFx9"
      },
      "execution_count": null,
      "outputs": []
    },
    {
      "cell_type": "code",
      "source": [
        "x1 = x * 10\n",
        "x2 = x + 5\n",
        "\n",
        "# print(x1) # Print the value of x1\n",
        "print(x1, x2) # Print the values of x1 and x2\n"
      ],
      "metadata": {
        "id": "Ivc72tB0X_TS",
        "outputId": "8ce1fb43-19a5-4066-f11b-7dc892444dd6",
        "colab": {
          "base_uri": "https://localhost:8080/"
        }
      },
      "execution_count": null,
      "outputs": [
        {
          "output_type": "stream",
          "name": "stdout",
          "text": [
            "100 15\n"
          ]
        }
      ]
    },
    {
      "cell_type": "code",
      "source": [
        "print(y)\n",
        "y1 = y + \"Welcome to the class.\"\n",
        "z1 = x1+x2\n",
        "\n",
        "x=\"John\"\n",
        "y=\"came in\"\n",
        "z1=x+y \n",
        "print(y1, z1)"
      ],
      "metadata": {
        "id": "cxePqv-52RU0",
        "outputId": "86caf7ac-9775-4ca0-df52-42fac5593595",
        "colab": {
          "base_uri": "https://localhost:8080/"
        }
      },
      "execution_count": null,
      "outputs": [
        {
          "output_type": "stream",
          "name": "stdout",
          "text": [
            "Hello, class!\n",
            "Hello, class!Welcome to the class. Johncame in\n"
          ]
        }
      ]
    },
    {
      "cell_type": "markdown",
      "source": [
        "Input types:\n",
        "\n",
        "* integer: e.g., -3, 1, 0, 234, etc.\n",
        "* float: e.g., -3.0, 1.2, 0, 3.141592653589793238, etc.\n",
        "* string: (characters) \"1\", '0', \"3.29\", \"Mary\", \"euphoria\", 'My name is Jane.'\n",
        "\n",
        "_Note:_ double or single quotation marks denote **string** data. (Open and close should match.)"
      ],
      "metadata": {
        "id": "4zDbyBHbeQsq"
      }
    },
    {
      "cell_type": "code",
      "source": [
        "# DIY\n",
        "x = 1\n",
        "y = 3\n",
        "z = x + y\n",
        "print(z)\n",
        "\n",
        "x1 = \"1\"\n",
        "y1 = \"3\"\n",
        "z1 = x1 + y1\n",
        "print(z1)"
      ],
      "metadata": {
        "colab": {
          "base_uri": "https://localhost:8080/"
        },
        "id": "yzZuC29QfP3T",
        "outputId": "515fac75-a743-47be-895b-3d6523cfcb07"
      },
      "execution_count": null,
      "outputs": [
        {
          "output_type": "stream",
          "name": "stdout",
          "text": [
            "4\n",
            "13\n"
          ]
        }
      ]
    },
    {
      "cell_type": "code",
      "source": [
        "z = 4\n",
        "type(z)"
      ],
      "metadata": {
        "colab": {
          "base_uri": "https://localhost:8080/"
        },
        "id": "qwDb8cf5fkKi",
        "outputId": "07e3d04f-1acc-4239-b34e-1e2fc2d853c5"
      },
      "execution_count": null,
      "outputs": [
        {
          "output_type": "execute_result",
          "data": {
            "text/plain": [
              "int"
            ]
          },
          "metadata": {},
          "execution_count": 9
        }
      ]
    },
    {
      "cell_type": "code",
      "source": [
        "z1 = \"1\" + \"3\"\n",
        "type(z1)"
      ],
      "metadata": {
        "colab": {
          "base_uri": "https://localhost:8080/"
        },
        "id": "L7sxvSaOfsOt",
        "outputId": "537636aa-3da7-4652-e179-7191e8130573"
      },
      "execution_count": null,
      "outputs": [
        {
          "output_type": "execute_result",
          "data": {
            "text/plain": [
              "str"
            ]
          },
          "metadata": {},
          "execution_count": 11
        }
      ]
    },
    {
      "cell_type": "code",
      "source": [
        "print(type(z), type(z1))"
      ],
      "metadata": {
        "colab": {
          "base_uri": "https://localhost:8080/"
        },
        "id": "bbFaL_GWfwMH",
        "outputId": "c0615b4a-1559-468a-e573-189d50e587a6"
      },
      "execution_count": null,
      "outputs": [
        {
          "output_type": "stream",
          "name": "stdout",
          "text": [
            "<class 'int'> <class 'str'>\n"
          ]
        }
      ]
    },
    {
      "cell_type": "markdown",
      "source": [
        "## [2] Operators\n",
        "\n",
        "* Symbols that perform operations on values and variables. \n",
        "- 값 및 변수에 대한 작업을 수행하는 기호입니다.\n",
        "* They are used to perform arithmetic and logical operations, and they can also be used to manipulate and compare values. \n",
        "- 연산 및 논리 연산을 수행하는 데 사용되며 값을 조작하고 비교하는 데도 사용할 수 있습니다."
      ],
      "metadata": {
        "id": "5JgA2T2dRft5"
      }
    },
    {
      "cell_type": "markdown",
      "source": [
        "1. Arithmetic Operators: +, -, *, /, %, ** (for exponentiation)\n",
        "2. semicolon ';' - separate multiple statements (code lines) on a single line.\n",
        "   - 여러 문장(코드 행)을 한 줄로 구분합니다."
      ],
      "metadata": {
        "id": "NJBgu_O4bczL"
      }
    },
    {
      "cell_type": "code",
      "source": [
        "x = 2; y = 5\n",
        "\n",
        "a1 = x + y\n",
        "a2 = x - y\n",
        "a3 = x * y\n",
        "a4 = x / y\n",
        "a5 = x ** y"
      ],
      "metadata": {
        "id": "dXT3pIzobUHU"
      },
      "execution_count": null,
      "outputs": []
    },
    {
      "cell_type": "code",
      "source": [
        "print(a1, a2, a3, a4, a5)"
      ],
      "metadata": {
        "colab": {
          "base_uri": "https://localhost:8080/"
        },
        "id": "_m3JBsOKd6Uv",
        "outputId": "32fef7fa-e7b6-4ce5-f0bc-d77c98888834"
      },
      "execution_count": null,
      "outputs": [
        {
          "output_type": "stream",
          "name": "stdout",
          "text": [
            "7 -3 10 0.4 32\n"
          ]
        }
      ]
    },
    {
      "cell_type": "code",
      "source": [
        "print(\"The value of a1:\", a1)"
      ],
      "metadata": {
        "colab": {
          "base_uri": "https://localhost:8080/"
        },
        "id": "5kq7I3nMd0Xi",
        "outputId": "2a4e2b18-1e1c-4e6a-fe18-e75ae292f4d7"
      },
      "execution_count": null,
      "outputs": [
        {
          "output_type": "stream",
          "name": "stdout",
          "text": [
            "The value of a1: 7\n"
          ]
        }
      ]
    },
    {
      "cell_type": "markdown",
      "source": [
        "# 🌱 Define a function\n",
        "\n",
        "Demo 🔢 Calculator"
      ],
      "metadata": {
        "id": "Cx1NyWUAybc8"
      }
    },
    {
      "cell_type": "code",
      "source": [
        "# This function adds two numbers\n",
        "def add(x, y):\n",
        "    return x + y\n",
        "\n",
        "# This function subtracts two numbers\n",
        "def subtract(x, y):\n",
        "    return x - y\n",
        "\n",
        "# This function multiplies two numbers\n",
        "def multiply(x, y):\n",
        "    return x * y\n",
        "\n",
        "# This function divides two numbers\n",
        "def divide(x, y):\n",
        "    return x / y\n"
      ],
      "metadata": {
        "id": "Dod3_zgYdsWe"
      },
      "execution_count": null,
      "outputs": []
    },
    {
      "cell_type": "code",
      "source": [
        "# DIY: define a function names switch(x, y), where the input x, y changes its position in the output.\n",
        "\n",
        "def switch(x,y):\n",
        "  return print(y,x)"
      ],
      "metadata": {
        "id": "W9CuAaqXgwb5"
      },
      "execution_count": null,
      "outputs": []
    },
    {
      "cell_type": "code",
      "source": [
        "switch(\"It\" , \"is\")"
      ],
      "metadata": {
        "id": "iMVavrXpZ7-W",
        "outputId": "0d0e6c36-5845-44f7-e6ab-bc0c6df3c71d",
        "colab": {
          "base_uri": "https://localhost:8080/"
        }
      },
      "execution_count": null,
      "outputs": [
        {
          "output_type": "stream",
          "name": "stdout",
          "text": [
            "is It\n"
          ]
        }
      ]
    },
    {
      "cell_type": "code",
      "source": [
        "add(1200,34)"
      ],
      "metadata": {
        "id": "br8NXBwtMpMI",
        "outputId": "ca5193ea-4c82-4a8e-baa2-151a1c6d78d4",
        "colab": {
          "base_uri": "https://localhost:8080/"
        }
      },
      "execution_count": null,
      "outputs": [
        {
          "output_type": "execute_result",
          "data": {
            "text/plain": [
              "1234"
            ]
          },
          "metadata": {},
          "execution_count": 25
        }
      ]
    },
    {
      "cell_type": "code",
      "source": [
        "def add(a,b):\n",
        "    return a + b\n",
        "def subtract(b,a):\n",
        "    return b - a\n",
        "def multiply(a,b):\n",
        "    return a * b\n",
        "def divide(b,a):\n",
        "    return b / a\n",
        "# Test\n",
        "add (2,3)\n",
        "subtract (3,2)\n",
        "multiply (2,3)\n",
        "divide (3,2)"
      ],
      "metadata": {
        "id": "IoHh-U2GBsqH",
        "outputId": "1e4a69e6-5350-4d64-f6ef-cd2bdc674eb9",
        "colab": {
          "base_uri": "https://localhost:8080/"
        }
      },
      "execution_count": null,
      "outputs": [
        {
          "output_type": "execute_result",
          "data": {
            "text/plain": [
              "1.5"
            ]
          },
          "metadata": {},
          "execution_count": 21
        }
      ]
    },
    {
      "cell_type": "markdown",
      "source": [
        "## Using dropbox format"
      ],
      "metadata": {
        "id": "eOluPoNqCCE1"
      }
    },
    {
      "cell_type": "code",
      "source": [
        "#@markdown 🔄 Making functions: tts('text')\n",
        "%%capture\n",
        "!pip install gTTS\n",
        "from gtts import gTTS\n",
        "from IPython.display import Audio\n",
        "\n",
        "def tts(text):\n",
        "  text_to_say = text\n",
        "\n",
        "  gtts_object = gTTS(text=text_to_say,\n",
        "                     lang=\"en\", tld=\"us\",\n",
        "                     slow=True)\n",
        "  \n",
        "  gtts_object.save(\"E-audio.mp3\")\n",
        "  return Audio(\"E-audio.mp3\")\n"
      ],
      "metadata": {
        "id": "nRtyN0p6NoKA"
      },
      "execution_count": 3,
      "outputs": []
    },
    {
      "cell_type": "code",
      "source": [
        "def subtract(a, b):\n",
        "    return a - b\n",
        "\n",
        "func = \"subtract\" #@param = [\"add\",\"subtract\",\"multiply\",\"divide\"]\n",
        "digits = input(\"Type two numbers: (e.g., 3,4)\")\n",
        "digitsplit = digits.split(',')\n",
        "d1 = int(digitsplit[0])\n",
        "d2 = int(digitsplit[1])\n",
        "\n",
        "if func == \"add\":\n",
        "    result = add(d1,d2)\n",
        "    text = \"The addition of %d and %d equals %d.\"%(d1,d2,result)\n",
        "elif func == \"subtract\":\n",
        "    result = subtract(d1,d2)\n",
        "    text = \"If you subtract %d from %d, you get %d.\"%(d2,d1,result)\n",
        "elif func == \"divide\":\n",
        "    result = divide(d1,d2)\n",
        "    text = \"When you divide %d by %d, you get %d.\"%(d1,d2,result)\n",
        "elif func == \"multiply\":\n",
        "    result = multiply(d1,d2)\n",
        "    text = \"%d multiplied by %d is %d.\"%(d1,d2,result)\n",
        "\n",
        "print(text)\n",
        "tts(text)\n",
        "Audio(\"E-audio.mp3\", autoplay=True)"
      ],
      "metadata": {
        "id": "FT47bY6qBo3k",
        "outputId": "66e7c2f3-4020-483e-d9e2-0a4eb6161f1d",
        "colab": {
          "base_uri": "https://localhost:8080/",
          "height": 110
        }
      },
      "execution_count": 4,
      "outputs": [
        {
          "output_type": "stream",
          "name": "stdout",
          "text": [
            "Type two numbers: (e.g., 3,4)3,4\n",
            "If you subtract 4 from 3, you get -1.\n"
          ]
        },
        {
          "output_type": "execute_result",
          "data": {
            "text/plain": [
              "<IPython.lib.display.Audio object>"
            ],
            "text/html": [
              "\n",
              "                <audio  controls=\"controls\" autoplay=\"autoplay\">\n",
              "                    <source src=\"data:audio/mpeg;base64,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\" type=\"audio/mpeg\" />\n",
              "                    Your browser does not support the audio element.\n",
              "                </audio>\n",
              "              "
            ]
          },
          "metadata": {},
          "execution_count": 4
        }
      ]
    },
    {
      "cell_type": "markdown",
      "source": [
        "More operators: <br>\n",
        "* Comparison Operators: == (같음), !=(다름), <, >, <=, >= <br>\n",
        "\n",
        "* Assignment Operators: =(대입), +=(더하고 대입), -=(빼고 대입), *=, /=, %=(나머지를 대입) <br>\n",
        "* Logical Operators: and, or, not <br>\n",
        "* Identity Operators: is, is not <br>\n",
        "* Membership Operators: in, not in "
      ],
      "metadata": {
        "id": "sfubu24UbqjH"
      }
    },
    {
      "cell_type": "markdown",
      "source": [
        "# 📗Topic [3] Data types: number, string, list and dictionary\n"
      ],
      "metadata": {
        "id": "3eSrUoglRh6-"
      }
    },
    {
      "cell_type": "markdown",
      "source": [
        "\n",
        "|Data type| |\n",
        "|:--:|:--:|\n",
        "|number|int, float|\n",
        "|string|charcter|\n",
        "|list|[1, 2,4], ['Mary','Tom','Jane'|\n",
        "|dictionary|(key: value), [('English': 80), ('Korean':90)]|\n",
        "|tuple|('zero', 0)|\n"
      ],
      "metadata": {
        "id": "ZVFb5JmJrPXu"
      }
    },
    {
      "cell_type": "code",
      "source": [
        "a1 = 3   # a1 is integer\n",
        "a2 = 3.0 # a2 is float\n",
        "a3 = \"3\" # a3 is string\n",
        "\n",
        "type(a1); type(a2); type(a3)\n",
        "#print(type(a1), type(a2), type(a3)/"
      ],
      "metadata": {
        "colab": {
          "base_uri": "https://localhost:8080/"
        },
        "id": "g-kvldqENA1e",
        "outputId": "20a4ad05-1aeb-4ca6-b86f-ad23a358446b"
      },
      "execution_count": null,
      "outputs": [
        {
          "output_type": "execute_result",
          "data": {
            "text/plain": [
              "str"
            ]
          },
          "metadata": {},
          "execution_count": 25
        }
      ]
    },
    {
      "cell_type": "markdown",
      "source": [
        "list and index (0, 1, 2,...)"
      ],
      "metadata": {
        "id": "HC_wMsPnNbzs"
      }
    },
    {
      "cell_type": "code",
      "source": [
        "a = [1, \"Mary\", 4, \"John\"]  # This is a list.\n",
        "print(type(a))\n",
        "\n",
        "# a+a/"
      ],
      "metadata": {
        "colab": {
          "base_uri": "https://localhost:8080/"
        },
        "id": "LyTw7phONZHE",
        "outputId": "793ca08c-a9e7-4a04-dd0f-a1e572e0024e"
      },
      "execution_count": 5,
      "outputs": [
        {
          "output_type": "stream",
          "name": "stdout",
          "text": [
            "<class 'list'>\n"
          ]
        }
      ]
    },
    {
      "cell_type": "markdown",
      "source": [
        "* index: Python index starts from '0'\n",
        "\n",
        "e.g., a = [1, 2, 3, 4]"
      ],
      "metadata": {
        "id": "-fL-pJvj7NW8"
      }
    },
    {
      "cell_type": "code",
      "source": [
        "a[0]\n",
        "type(a[0])\n",
        "type(a[1])\n",
        "a[0] + a[2]\n",
        "a[0] + a[1] # int + str + error"
      ],
      "metadata": {
        "id": "9Z5zLDGc7X13",
        "outputId": "55e18d6b-bc2b-4b26-c97c-f5ff66b086d0",
        "colab": {
          "base_uri": "https://localhost:8080/",
          "height": 245
        }
      },
      "execution_count": null,
      "outputs": [
        {
          "output_type": "error",
          "ename": "NameError",
          "evalue": "ignored",
          "traceback": [
            "\u001b[0;31m---------------------------------------------------------------------------\u001b[0m",
            "\u001b[0;31mNameError\u001b[0m                                 Traceback (most recent call last)",
            "\u001b[0;32m<ipython-input-25-57b4794e1818>\u001b[0m in \u001b[0;36m<cell line: 1>\u001b[0;34m()\u001b[0m\n\u001b[0;32m----> 1\u001b[0;31m \u001b[0ma\u001b[0m\u001b[0;34m[\u001b[0m\u001b[0;36m0\u001b[0m\u001b[0;34m]\u001b[0m\u001b[0;34m\u001b[0m\u001b[0;34m\u001b[0m\u001b[0m\n\u001b[0m\u001b[1;32m      2\u001b[0m \u001b[0mtype\u001b[0m\u001b[0;34m(\u001b[0m\u001b[0ma\u001b[0m\u001b[0;34m[\u001b[0m\u001b[0;36m0\u001b[0m\u001b[0;34m]\u001b[0m\u001b[0;34m)\u001b[0m\u001b[0;34m\u001b[0m\u001b[0;34m\u001b[0m\u001b[0m\n\u001b[1;32m      3\u001b[0m \u001b[0mtype\u001b[0m\u001b[0;34m(\u001b[0m\u001b[0ma\u001b[0m\u001b[0;34m[\u001b[0m\u001b[0;36m1\u001b[0m\u001b[0;34m]\u001b[0m\u001b[0;34m)\u001b[0m\u001b[0;34m\u001b[0m\u001b[0;34m\u001b[0m\u001b[0m\n\u001b[1;32m      4\u001b[0m \u001b[0ma\u001b[0m\u001b[0;34m[\u001b[0m\u001b[0;36m0\u001b[0m\u001b[0;34m]\u001b[0m \u001b[0;34m+\u001b[0m \u001b[0ma\u001b[0m\u001b[0;34m[\u001b[0m\u001b[0;36m2\u001b[0m\u001b[0;34m]\u001b[0m\u001b[0;34m\u001b[0m\u001b[0;34m\u001b[0m\u001b[0m\n\u001b[1;32m      5\u001b[0m \u001b[0ma\u001b[0m\u001b[0;34m[\u001b[0m\u001b[0;36m0\u001b[0m\u001b[0;34m]\u001b[0m \u001b[0;34m+\u001b[0m \u001b[0ma\u001b[0m\u001b[0;34m[\u001b[0m\u001b[0;36m1\u001b[0m\u001b[0;34m]\u001b[0m \u001b[0;31m# int + str + error\u001b[0m\u001b[0;34m\u001b[0m\u001b[0;34m\u001b[0m\u001b[0m\n",
            "\u001b[0;31mNameError\u001b[0m: name 'a' is not defined"
          ]
        }
      ]
    },
    {
      "cell_type": "markdown",
      "source": [
        "[Github accounts](https://raw.githubusercontent.com/MK316/Spring2023/main/DL/files/DL_github.csv)"
      ],
      "metadata": {
        "id": "S-KG49Zaim0S"
      }
    },
    {
      "cell_type": "markdown",
      "source": [
        "\n",
        "\n",
        "---\n",
        "# The End\n"
      ],
      "metadata": {
        "id": "3cZjH9xIiN4_"
      }
    }
  ]
}