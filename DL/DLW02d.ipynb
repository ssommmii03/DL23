{
  "nbformat": 4,
  "nbformat_minor": 0,
  "metadata": {
    "colab": {
      "provenance": [],
      "include_colab_link": true
    },
    "kernelspec": {
      "name": "python3",
      "display_name": "Python 3"
    },
    "language_info": {
      "name": "python"
    }
  },
  "cells": [
    {
      "cell_type": "markdown",
      "metadata": {
        "id": "view-in-github",
        "colab_type": "text"
      },
      "source": [
        "<a href=\"https://colab.research.google.com/github/ssommmii03/DL23/blob/main/DL/DLW02d.ipynb\" target=\"_parent\"><img src=\"https://colab.research.google.com/assets/colab-badge.svg\" alt=\"Open In Colab\"/></a>"
      ]
    },
    {
      "cell_type": "markdown",
      "source": [
        "---\n",
        "# 📗 Topic [2]: Coding basic #2\n",
        "---\n",
        "Keywords:\n",
        "\n",
        "+ variables\n",
        "+ **operators**\n",
        "+ **data types: list and dictionary**"
      ],
      "metadata": {
        "id": "k4A5_MYHpcNQ"
      }
    },
    {
      "cell_type": "markdown",
      "source": [
        "Your github IDs [here](https://docs.google.com/spreadsheets/d/17SX51lCqOdtvC7cAGoX5tP9fKwVdGY5sRzMg2pXh9uk/edit#gid=0) - revised 0327"
      ],
      "metadata": {
        "id": "mUVgzk50XMkt"
      }
    },
    {
      "cell_type": "markdown",
      "source": [
        "## [1] Variables"
      ],
      "metadata": {
        "id": "93gQaEo1RX63"
      }
    },
    {
      "cell_type": "markdown",
      "source": [
        "+ **A variable** is a named storage location that holds a value.\n",
        "+ Variables can be used **to store values** such as numbers, strings, lists, or other data types. \n",
        "+ The value of a variable can change throughout the execution of a program. \n",
        "+ To declare a variable in Python, you need to assign a value to it using the **equal (=) sign.**"
      ],
      "metadata": {
        "id": "jJT4hD1teuJr"
      }
    },
    {
      "cell_type": "code",
      "source": [
        "x = 10\n",
        "y = \"Hello, class!\"\n",
        "z = [1, 2, 3]"
      ],
      "metadata": {
        "id": "Xes87bY2X45M"
      },
      "execution_count": 1,
      "outputs": []
    },
    {
      "cell_type": "markdown",
      "source": [
        "↗️ In the above example, 'x' is assigned the value of 10, 'y' is assigned the value of \"Hello, World!\", and 'z' is assigned the value of [1, 2, 3]."
      ],
      "metadata": {
        "id": "ulw6QsP5ZiKp"
      }
    },
    {
      "cell_type": "code",
      "source": [
        "# We can assign a link or a function\n",
        "import pandas as pd\n",
        "url = \"https://github.com/MK316/Spring2023/raw/main/data/att_sample.csv\"\n",
        "data = pd.read_csv(url)\n",
        "data"
      ],
      "metadata": {
        "id": "_7bvpJt2aQmg",
        "outputId": "894bb444-ece7-4303-d424-730638d52bdc",
        "colab": {
          "base_uri": "https://localhost:8080/",
          "height": 488
        }
      },
      "execution_count": 3,
      "outputs": [
        {
          "output_type": "execute_result",
          "data": {
            "text/plain": [
              "      Names\n",
              "0      Mary\n",
              "1      John\n",
              "2       Tim\n",
              "3       Bob\n",
              "4     Sarah\n",
              "5      Kate\n",
              "6     Marie\n",
              "7   Johnson\n",
              "8      Mike\n",
              "9     Harry\n",
              "10      Jin\n",
              "11      Sam\n",
              "12     Paul\n",
              "13  Natalie"
            ],
            "text/html": [
              "\n",
              "  <div id=\"df-6bedbd1b-d81a-45cd-ab17-91df170436b7\">\n",
              "    <div class=\"colab-df-container\">\n",
              "      <div>\n",
              "<style scoped>\n",
              "    .dataframe tbody tr th:only-of-type {\n",
              "        vertical-align: middle;\n",
              "    }\n",
              "\n",
              "    .dataframe tbody tr th {\n",
              "        vertical-align: top;\n",
              "    }\n",
              "\n",
              "    .dataframe thead th {\n",
              "        text-align: right;\n",
              "    }\n",
              "</style>\n",
              "<table border=\"1\" class=\"dataframe\">\n",
              "  <thead>\n",
              "    <tr style=\"text-align: right;\">\n",
              "      <th></th>\n",
              "      <th>Names</th>\n",
              "    </tr>\n",
              "  </thead>\n",
              "  <tbody>\n",
              "    <tr>\n",
              "      <th>0</th>\n",
              "      <td>Mary</td>\n",
              "    </tr>\n",
              "    <tr>\n",
              "      <th>1</th>\n",
              "      <td>John</td>\n",
              "    </tr>\n",
              "    <tr>\n",
              "      <th>2</th>\n",
              "      <td>Tim</td>\n",
              "    </tr>\n",
              "    <tr>\n",
              "      <th>3</th>\n",
              "      <td>Bob</td>\n",
              "    </tr>\n",
              "    <tr>\n",
              "      <th>4</th>\n",
              "      <td>Sarah</td>\n",
              "    </tr>\n",
              "    <tr>\n",
              "      <th>5</th>\n",
              "      <td>Kate</td>\n",
              "    </tr>\n",
              "    <tr>\n",
              "      <th>6</th>\n",
              "      <td>Marie</td>\n",
              "    </tr>\n",
              "    <tr>\n",
              "      <th>7</th>\n",
              "      <td>Johnson</td>\n",
              "    </tr>\n",
              "    <tr>\n",
              "      <th>8</th>\n",
              "      <td>Mike</td>\n",
              "    </tr>\n",
              "    <tr>\n",
              "      <th>9</th>\n",
              "      <td>Harry</td>\n",
              "    </tr>\n",
              "    <tr>\n",
              "      <th>10</th>\n",
              "      <td>Jin</td>\n",
              "    </tr>\n",
              "    <tr>\n",
              "      <th>11</th>\n",
              "      <td>Sam</td>\n",
              "    </tr>\n",
              "    <tr>\n",
              "      <th>12</th>\n",
              "      <td>Paul</td>\n",
              "    </tr>\n",
              "    <tr>\n",
              "      <th>13</th>\n",
              "      <td>Natalie</td>\n",
              "    </tr>\n",
              "  </tbody>\n",
              "</table>\n",
              "</div>\n",
              "      <button class=\"colab-df-convert\" onclick=\"convertToInteractive('df-6bedbd1b-d81a-45cd-ab17-91df170436b7')\"\n",
              "              title=\"Convert this dataframe to an interactive table.\"\n",
              "              style=\"display:none;\">\n",
              "        \n",
              "  <svg xmlns=\"http://www.w3.org/2000/svg\" height=\"24px\"viewBox=\"0 0 24 24\"\n",
              "       width=\"24px\">\n",
              "    <path d=\"M0 0h24v24H0V0z\" fill=\"none\"/>\n",
              "    <path d=\"M18.56 5.44l.94 2.06.94-2.06 2.06-.94-2.06-.94-.94-2.06-.94 2.06-2.06.94zm-11 1L8.5 8.5l.94-2.06 2.06-.94-2.06-.94L8.5 2.5l-.94 2.06-2.06.94zm10 10l.94 2.06.94-2.06 2.06-.94-2.06-.94-.94-2.06-.94 2.06-2.06.94z\"/><path d=\"M17.41 7.96l-1.37-1.37c-.4-.4-.92-.59-1.43-.59-.52 0-1.04.2-1.43.59L10.3 9.45l-7.72 7.72c-.78.78-.78 2.05 0 2.83L4 21.41c.39.39.9.59 1.41.59.51 0 1.02-.2 1.41-.59l7.78-7.78 2.81-2.81c.8-.78.8-2.07 0-2.86zM5.41 20L4 18.59l7.72-7.72 1.47 1.35L5.41 20z\"/>\n",
              "  </svg>\n",
              "      </button>\n",
              "      \n",
              "  <style>\n",
              "    .colab-df-container {\n",
              "      display:flex;\n",
              "      flex-wrap:wrap;\n",
              "      gap: 12px;\n",
              "    }\n",
              "\n",
              "    .colab-df-convert {\n",
              "      background-color: #E8F0FE;\n",
              "      border: none;\n",
              "      border-radius: 50%;\n",
              "      cursor: pointer;\n",
              "      display: none;\n",
              "      fill: #1967D2;\n",
              "      height: 32px;\n",
              "      padding: 0 0 0 0;\n",
              "      width: 32px;\n",
              "    }\n",
              "\n",
              "    .colab-df-convert:hover {\n",
              "      background-color: #E2EBFA;\n",
              "      box-shadow: 0px 1px 2px rgba(60, 64, 67, 0.3), 0px 1px 3px 1px rgba(60, 64, 67, 0.15);\n",
              "      fill: #174EA6;\n",
              "    }\n",
              "\n",
              "    [theme=dark] .colab-df-convert {\n",
              "      background-color: #3B4455;\n",
              "      fill: #D2E3FC;\n",
              "    }\n",
              "\n",
              "    [theme=dark] .colab-df-convert:hover {\n",
              "      background-color: #434B5C;\n",
              "      box-shadow: 0px 1px 3px 1px rgba(0, 0, 0, 0.15);\n",
              "      filter: drop-shadow(0px 1px 2px rgba(0, 0, 0, 0.3));\n",
              "      fill: #FFFFFF;\n",
              "    }\n",
              "  </style>\n",
              "\n",
              "      <script>\n",
              "        const buttonEl =\n",
              "          document.querySelector('#df-6bedbd1b-d81a-45cd-ab17-91df170436b7 button.colab-df-convert');\n",
              "        buttonEl.style.display =\n",
              "          google.colab.kernel.accessAllowed ? 'block' : 'none';\n",
              "\n",
              "        async function convertToInteractive(key) {\n",
              "          const element = document.querySelector('#df-6bedbd1b-d81a-45cd-ab17-91df170436b7');\n",
              "          const dataTable =\n",
              "            await google.colab.kernel.invokeFunction('convertToInteractive',\n",
              "                                                     [key], {});\n",
              "          if (!dataTable) return;\n",
              "\n",
              "          const docLinkHtml = 'Like what you see? Visit the ' +\n",
              "            '<a target=\"_blank\" href=https://colab.research.google.com/notebooks/data_table.ipynb>data table notebook</a>'\n",
              "            + ' to learn more about interactive tables.';\n",
              "          element.innerHTML = '';\n",
              "          dataTable['output_type'] = 'display_data';\n",
              "          await google.colab.output.renderOutput(dataTable, element);\n",
              "          const docLink = document.createElement('div');\n",
              "          docLink.innerHTML = docLinkHtml;\n",
              "          element.appendChild(docLink);\n",
              "        }\n",
              "      </script>\n",
              "    </div>\n",
              "  </div>\n",
              "  "
            ]
          },
          "metadata": {},
          "execution_count": 3
        }
      ]
    },
    {
      "cell_type": "markdown",
      "source": [
        "## Commenting '#'\n",
        "\n",
        "- In Python, the # symbol is used to indicate comment lines. A comment is a line of text in a code that is ignored by the Python interpreter and is used to provide explanations or notes for the reader of the code.\n",
        "\n",
        "## Uncommenting shortcut: \n",
        "* \"Ctrl + /\" (Place the cursor on the code line and press the Control + / key.)"
      ],
      "metadata": {
        "id": "xZv9R8I8ZWvt"
      }
    },
    {
      "cell_type": "code",
      "source": [
        "# This is a comment in Python\n",
        "# x = 10 # this is also a comment"
      ],
      "metadata": {
        "id": "7UJmbmmTaFx9"
      },
      "execution_count": null,
      "outputs": []
    },
    {
      "cell_type": "code",
      "source": [
        "x1 = x * 10\n",
        "x2 = x + 5\n",
        "\n",
        "#print(x1) # Print the value of x1\n",
        "print(x1, x2) # Print the values of x1 and x2\n"
      ],
      "metadata": {
        "id": "Ivc72tB0X_TS",
        "outputId": "8ce1fb43-19a5-4066-f11b-7dc892444dd6",
        "colab": {
          "base_uri": "https://localhost:8080/"
        }
      },
      "execution_count": 5,
      "outputs": [
        {
          "output_type": "stream",
          "name": "stdout",
          "text": [
            "100 15\n"
          ]
        }
      ]
    },
    {
      "cell_type": "code",
      "source": [
        "print(y)\n",
        "y1 = y + \"Welcome to the class.\"\n",
        "z1 = x1+x2\n",
        "\n",
        "x=\"John\"\n",
        "y=\"came in\"\n",
        "z1=x+y \n",
        "print(y1, z1)"
      ],
      "metadata": {
        "id": "cxePqv-52RU0",
        "outputId": "86caf7ac-9775-4ca0-df52-42fac5593595",
        "colab": {
          "base_uri": "https://localhost:8080/"
        }
      },
      "execution_count": 9,
      "outputs": [
        {
          "output_type": "stream",
          "name": "stdout",
          "text": [
            "Hello, class!\n",
            "Hello, class!Welcome to the class. Johncame in\n"
          ]
        }
      ]
    },
    {
      "cell_type": "markdown",
      "source": [
        "Input types:\n",
        "\n",
        "* integer: e.g., -3, 1, 0, 234, etc.\n",
        "* float: e.g., -3.0, 1.2, 0, 3.141592653589793238, etc.\n",
        "* string: (characters) \"1\", '0', \"3.29\", \"Mary\", \"euphoria\", 'My name is Jane.'\n",
        "\n",
        "_Note:_ double or single quotation marks denote **string** data. (Open and close should match.)"
      ],
      "metadata": {
        "id": "4zDbyBHbeQsq"
      }
    },
    {
      "cell_type": "code",
      "source": [
        "# DIY\n",
        "x = 1\n",
        "y = 3\n",
        "z = x + y\n",
        "print(z)\n",
        "\n",
        "x1 = \"1\"\n",
        "y1 = \"3\"\n",
        "z1 = x1 + y1\n",
        "print(z1)"
      ],
      "metadata": {
        "colab": {
          "base_uri": "https://localhost:8080/"
        },
        "id": "yzZuC29QfP3T",
        "outputId": "515fac75-a743-47be-895b-3d6523cfcb07"
      },
      "execution_count": 10,
      "outputs": [
        {
          "output_type": "stream",
          "name": "stdout",
          "text": [
            "4\n",
            "13\n"
          ]
        }
      ]
    },
    {
      "cell_type": "code",
      "source": [
        "type(z)"
      ],
      "metadata": {
        "colab": {
          "base_uri": "https://localhost:8080/"
        },
        "id": "qwDb8cf5fkKi",
        "outputId": "4e0573bc-5d67-4aa2-ce91-d9e0df5b5fdb"
      },
      "execution_count": 11,
      "outputs": [
        {
          "output_type": "execute_result",
          "data": {
            "text/plain": [
              "int"
            ]
          },
          "metadata": {},
          "execution_count": 11
        }
      ]
    },
    {
      "cell_type": "code",
      "source": [
        "type(z1)"
      ],
      "metadata": {
        "colab": {
          "base_uri": "https://localhost:8080/"
        },
        "id": "L7sxvSaOfsOt",
        "outputId": "8a39272a-2e70-4f2b-f08d-4572ec20ee95"
      },
      "execution_count": 12,
      "outputs": [
        {
          "output_type": "execute_result",
          "data": {
            "text/plain": [
              "str"
            ]
          },
          "metadata": {},
          "execution_count": 12
        }
      ]
    },
    {
      "cell_type": "code",
      "source": [
        "print(type(z), type(z1))"
      ],
      "metadata": {
        "colab": {
          "base_uri": "https://localhost:8080/"
        },
        "id": "bbFaL_GWfwMH",
        "outputId": "7f4e3965-e83a-4b24-9780-34d04e1a5305"
      },
      "execution_count": null,
      "outputs": [
        {
          "output_type": "stream",
          "name": "stdout",
          "text": [
            "<class 'int'> <class 'str'>\n"
          ]
        }
      ]
    },
    {
      "cell_type": "markdown",
      "source": [
        "## [2] Operators\n",
        "\n",
        "* Symbols that perform operations on values and variables. \n",
        "* They are used to perform arithmetic and logical operations, and they can also be used to manipulate and compare values. "
      ],
      "metadata": {
        "id": "5JgA2T2dRft5"
      }
    },
    {
      "cell_type": "markdown",
      "source": [
        "1. Arithmetic Operators: +, -, *, /, %, ** (for exponentiation)\n",
        "2. semicolon ';' - separate multiple statements (code lines) on a single line."
      ],
      "metadata": {
        "id": "NJBgu_O4bczL"
      }
    },
    {
      "cell_type": "code",
      "source": [
        "x = 2; y = 5\n",
        "\n",
        "a1 = x + y\n",
        "a2 = x - y\n",
        "a3 = x * y\n",
        "a4 = x / y\n",
        "a5 = x ** y"
      ],
      "metadata": {
        "id": "dXT3pIzobUHU"
      },
      "execution_count": 13,
      "outputs": []
    },
    {
      "cell_type": "code",
      "source": [
        "print(a1, a2, a3, a4, a5)"
      ],
      "metadata": {
        "colab": {
          "base_uri": "https://localhost:8080/"
        },
        "id": "_m3JBsOKd6Uv",
        "outputId": "32fef7fa-e7b6-4ce5-f0bc-d77c98888834"
      },
      "execution_count": 14,
      "outputs": [
        {
          "output_type": "stream",
          "name": "stdout",
          "text": [
            "7 -3 10 0.4 32\n"
          ]
        }
      ]
    },
    {
      "cell_type": "code",
      "source": [
        "print(\"The value of a1:\", a1)"
      ],
      "metadata": {
        "colab": {
          "base_uri": "https://localhost:8080/"
        },
        "id": "5kq7I3nMd0Xi",
        "outputId": "2a4e2b18-1e1c-4e6a-fe18-e75ae292f4d7"
      },
      "execution_count": 15,
      "outputs": [
        {
          "output_type": "stream",
          "name": "stdout",
          "text": [
            "The value of a1: 7\n"
          ]
        }
      ]
    },
    {
      "cell_type": "markdown",
      "source": [
        "# 🌱 Define a function\n",
        "\n",
        "Demo 🔢 Calculator"
      ],
      "metadata": {
        "id": "Cx1NyWUAybc8"
      }
    },
    {
      "cell_type": "code",
      "source": [
        "# This function adds two numbers\n",
        "def add(x, y):\n",
        "    return x + y\n",
        "\n",
        "# This function subtracts two numbers\n",
        "def subtract(x, y):\n",
        "    return x - y\n",
        "\n",
        "# This function multiplies two numbers\n",
        "def multiply(x, y):\n",
        "    return x * y\n",
        "\n",
        "# This function divides two numbers\n",
        "def divide(x, y):\n",
        "    return x / y\n"
      ],
      "metadata": {
        "id": "Dod3_zgYdsWe"
      },
      "execution_count": 16,
      "outputs": []
    },
    {
      "cell_type": "code",
      "source": [
        "# DIY: define a function names switch(x, y), where the input x, y changes its position in the output.\n",
        "\n",
        "def switch(x,y):\n",
        "  return print(y,x)"
      ],
      "metadata": {
        "id": "W9CuAaqXgwb5"
      },
      "execution_count": 17,
      "outputs": []
    },
    {
      "cell_type": "code",
      "source": [
        "switch(\"It\" , \"is\")"
      ],
      "metadata": {
        "id": "iMVavrXpZ7-W",
        "outputId": "0d0e6c36-5845-44f7-e6ab-bc0c6df3c71d",
        "colab": {
          "base_uri": "https://localhost:8080/"
        }
      },
      "execution_count": 18,
      "outputs": [
        {
          "output_type": "stream",
          "name": "stdout",
          "text": [
            "is It\n"
          ]
        }
      ]
    },
    {
      "cell_type": "code",
      "source": [
        "add(1200,34)"
      ],
      "metadata": {
        "id": "br8NXBwtMpMI",
        "outputId": "ca5193ea-4c82-4a8e-baa2-151a1c6d78d4",
        "colab": {
          "base_uri": "https://localhost:8080/"
        }
      },
      "execution_count": null,
      "outputs": [
        {
          "output_type": "execute_result",
          "data": {
            "text/plain": [
              "1234"
            ]
          },
          "metadata": {},
          "execution_count": 25
        }
      ]
    },
    {
      "cell_type": "code",
      "source": [
        "# Test\n",
        "\n",
        "add(2,3)\n",
        "subtract(3,2)\n",
        "multiply(2,3)\n",
        "divide(3,2)"
      ],
      "metadata": {
        "id": "IoHh-U2GBsqH",
        "outputId": "95b74b11-dca8-4989-8007-de256f61deef",
        "colab": {
          "base_uri": "https://localhost:8080/"
        }
      },
      "execution_count": null,
      "outputs": [
        {
          "output_type": "execute_result",
          "data": {
            "text/plain": [
              "1.5"
            ]
          },
          "metadata": {},
          "execution_count": 29
        }
      ]
    },
    {
      "cell_type": "markdown",
      "source": [
        "## Using dropbox format"
      ],
      "metadata": {
        "id": "eOluPoNqCCE1"
      }
    },
    {
      "cell_type": "code",
      "source": [
        "#@markdown 🔄 Making functions: tts('text')\n",
        "%%capture\n",
        "!pip install gTTS\n",
        "from gtts import gTTS\n",
        "from IPython.display import Audio\n",
        "\n",
        "def tts(text):\n",
        "  text_to_say = text\n",
        "\n",
        "  gtts_object = gTTS(text = text_to_say,\n",
        "                     lang = \"en\", tld = \"us\",\n",
        "                    slow = True)\n",
        "  \n",
        "  gtts_object.save(\"E-audio.mp3\")\n",
        "  return Audio(\"E-audio.mp3\")"
      ],
      "metadata": {
        "id": "nRtyN0p6NoKA"
      },
      "execution_count": 19,
      "outputs": []
    },
    {
      "cell_type": "code",
      "source": [
        "func = \"subtract\" #@param = [\"add\",\"subtract\",\"multiply\",\"divide\"]\n",
        "digits = input(\"Type two numbers: (e.g., 3,4)\")\n",
        "digitsplit = digits.split(',')\n",
        "d1 = int(digitsplit[0])\n",
        "d2 = int(digitsplit[1])\n",
        "\n",
        "if func == \"add\":\n",
        "  result = add(d1,d2)\n",
        "  text = \"The addition of %d and %d equals %d.\"%(d1,d2,result)\n",
        "elif func == \"subtract\":\n",
        "  result = subtract(d1,d2)\n",
        "  text = \"If you subtract %d from %d, you get %d.\"%(d2,d1,result)\n",
        "elif func == \"divide\":\n",
        "  result = divide(d1,d2)\n",
        "  text = \"When you divide %d by %d, you get %d.\"%(d1,d2,result)\n",
        "elif func == \"multiply\":\n",
        "  result = multiply(d1,d2)\n",
        "  text = \"%d multiplied by %d is %d.\"%(d1,d2,result)\n",
        "\n",
        "print(text)\n",
        "tts(text)\n",
        "Audio(\"E-audio.mp3\" , autoplay = True)"
      ],
      "metadata": {
        "id": "FT47bY6qBo3k",
        "outputId": "0f05cf1b-809c-4c8c-ed45-b3509d72aea2",
        "colab": {
          "base_uri": "https://localhost:8080/",
          "height": 111
        }
      },
      "execution_count": 24,
      "outputs": [
        {
          "output_type": "stream",
          "name": "stdout",
          "text": [
            "Type two numbers: (e.g., 3,4)12345, 234\n",
            "If you subtract 234 from 12345, you get 12111.\n"
          ]
        },
        {
          "output_type": "execute_result",
          "data": {
            "text/plain": [
              "<IPython.lib.display.Audio object>"
            ],
            "text/html": [
              "\n",
              "                <audio  controls=\"controls\" autoplay=\"autoplay\">\n",
              "                    <source src=\"data:audio/mpeg;base64,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\" type=\"audio/mpeg\" />\n",
              "                    Your browser does not support the audio element.\n",
              "                </audio>\n",
              "              "
            ]
          },
          "metadata": {},
          "execution_count": 24
        }
      ]
    },
    {
      "cell_type": "markdown",
      "source": [
        "More operators: <br>\n",
        "* Comparison Operators: ==, !=, <, >, <=, >= <br>\n",
        "* Assignment Operators: =, +=, -=, *=, /=, %= <br>\n",
        "* Logical Operators: and, or, not <br>\n",
        "* Identity Operators: is, is not <br>\n",
        "* Membership Operators: in, not in "
      ],
      "metadata": {
        "id": "sfubu24UbqjH"
      }
    },
    {
      "cell_type": "markdown",
      "source": [
        "# 📗Topic [3] Data types: number, string, list and dictionary\n"
      ],
      "metadata": {
        "id": "3eSrUoglRh6-"
      }
    },
    {
      "cell_type": "markdown",
      "source": [
        "\n",
        "|Data type| |\n",
        "|:--:|:--:|\n",
        "|number|int, float|\n",
        "|string|charcter|\n",
        "|list|[1, 2,4], ['Mary','Tom','Jane'|\n",
        "|dictionary|(key: value), [('English': 80), ('Korean':90)]|\n",
        "|tuple|('zero', 0)|\n"
      ],
      "metadata": {
        "id": "ZVFb5JmJrPXu"
      }
    },
    {
      "cell_type": "code",
      "source": [
        "a1 = 3   # a1 is integer\n",
        "a2 = 3.0 # a2 is float\n",
        "a3 = \"3\" # a3 is string\n",
        "\n",
        "type(a1); type(a2); type(a3)\n",
        "#print(type(a1), type(a2), type(a3)/"
      ],
      "metadata": {
        "colab": {
          "base_uri": "https://localhost:8080/"
        },
        "id": "g-kvldqENA1e",
        "outputId": "20a4ad05-1aeb-4ca6-b86f-ad23a358446b"
      },
      "execution_count": 25,
      "outputs": [
        {
          "output_type": "execute_result",
          "data": {
            "text/plain": [
              "str"
            ]
          },
          "metadata": {},
          "execution_count": 25
        }
      ]
    },
    {
      "cell_type": "markdown",
      "source": [
        "list and index (0, 1, 2,...)"
      ],
      "metadata": {
        "id": "HC_wMsPnNbzs"
      }
    },
    {
      "cell_type": "code",
      "source": [
        "a = [1, \"Mary\", 4, \"John\"]  # This is a list.\n",
        "print(type(a))\n",
        "\n",
        "# a+a/"
      ],
      "metadata": {
        "colab": {
          "base_uri": "https://localhost:8080/"
        },
        "id": "LyTw7phONZHE",
        "outputId": "b2275a22-494c-4bb8-85ac-a7a8a9cfdc26"
      },
      "execution_count": 26,
      "outputs": [
        {
          "output_type": "stream",
          "name": "stdout",
          "text": [
            "<class 'list'>\n"
          ]
        }
      ]
    },
    {
      "cell_type": "markdown",
      "source": [
        "* index: Python index starts from '0'\n",
        "\n",
        "e.g., a = [1, 2, 3, 4]"
      ],
      "metadata": {
        "id": "-fL-pJvj7NW8"
      }
    },
    {
      "cell_type": "code",
      "source": [
        "a[0]\n",
        "type(a[0])\n",
        "type(a[1])\n",
        "a[0] + a[2]\n",
        "a[0] + a[1] # int + str + error"
      ],
      "metadata": {
        "id": "9Z5zLDGc7X13",
        "outputId": "8b854b4b-f6cf-48ae-aa8d-227a33bd2fad",
        "colab": {
          "base_uri": "https://localhost:8080/",
          "height": 211
        }
      },
      "execution_count": 28,
      "outputs": [
        {
          "output_type": "error",
          "ename": "TypeError",
          "evalue": "ignored",
          "traceback": [
            "\u001b[0;31m---------------------------------------------------------------------------\u001b[0m",
            "\u001b[0;31mTypeError\u001b[0m                                 Traceback (most recent call last)",
            "\u001b[0;32m<ipython-input-28-57b4794e1818>\u001b[0m in \u001b[0;36m<module>\u001b[0;34m\u001b[0m\n\u001b[1;32m      3\u001b[0m \u001b[0mtype\u001b[0m\u001b[0;34m(\u001b[0m\u001b[0ma\u001b[0m\u001b[0;34m[\u001b[0m\u001b[0;36m1\u001b[0m\u001b[0;34m]\u001b[0m\u001b[0;34m)\u001b[0m\u001b[0;34m\u001b[0m\u001b[0;34m\u001b[0m\u001b[0m\n\u001b[1;32m      4\u001b[0m \u001b[0ma\u001b[0m\u001b[0;34m[\u001b[0m\u001b[0;36m0\u001b[0m\u001b[0;34m]\u001b[0m \u001b[0;34m+\u001b[0m \u001b[0ma\u001b[0m\u001b[0;34m[\u001b[0m\u001b[0;36m2\u001b[0m\u001b[0;34m]\u001b[0m\u001b[0;34m\u001b[0m\u001b[0;34m\u001b[0m\u001b[0m\n\u001b[0;32m----> 5\u001b[0;31m \u001b[0ma\u001b[0m\u001b[0;34m[\u001b[0m\u001b[0;36m0\u001b[0m\u001b[0;34m]\u001b[0m \u001b[0;34m+\u001b[0m \u001b[0ma\u001b[0m\u001b[0;34m[\u001b[0m\u001b[0;36m1\u001b[0m\u001b[0;34m]\u001b[0m \u001b[0;31m# int + str + error\u001b[0m\u001b[0;34m\u001b[0m\u001b[0;34m\u001b[0m\u001b[0m\n\u001b[0m",
            "\u001b[0;31mTypeError\u001b[0m: unsupported operand type(s) for +: 'int' and 'str'"
          ]
        }
      ]
    },
    {
      "cell_type": "markdown",
      "source": [
        "[Github accounts](https://raw.githubusercontent.com/MK316/Spring2023/main/DL/files/DL_github.csv)"
      ],
      "metadata": {
        "id": "S-KG49Zaim0S"
      }
    },
    {
      "cell_type": "markdown",
      "source": [
        "\n",
        "\n",
        "---\n",
        "# The End\n"
      ],
      "metadata": {
        "id": "3cZjH9xIiN4_"
      }
    }
  ]
}