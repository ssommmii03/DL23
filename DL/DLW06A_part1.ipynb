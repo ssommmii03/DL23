{
  "nbformat": 4,
  "nbformat_minor": 0,
  "metadata": {
    "colab": {
      "provenance": [],
      "include_colab_link": true
    },
    "kernelspec": {
      "name": "python3",
      "display_name": "Python 3"
    },
    "language_info": {
      "name": "python"
    }
  },
  "cells": [
    {
      "cell_type": "markdown",
      "metadata": {
        "id": "view-in-github",
        "colab_type": "text"
      },
      "source": [
        "<a href=\"https://colab.research.google.com/github/ssommmii03/DL23/blob/main/DL/DLW06A_part1.ipynb\" target=\"_parent\"><img src=\"https://colab.research.google.com/assets/colab-badge.svg\" alt=\"Open In Colab\"/></a>"
      ]
    },
    {
      "cell_type": "markdown",
      "source": [
        "# 🌀**DLW06A Part I (4/12)** Coding and Language games"
      ],
      "metadata": {
        "id": "_mbT_YJKGkm-"
      }
    },
    {
      "cell_type": "markdown",
      "source": [
        "# 💕 Goal: Creating an app similar to **_Word Guessing Game from Hints_**\n",
        "\n",
        "We will be spending 2 weeks to get this go."
      ],
      "metadata": {
        "id": "ppmHMRdisMiv"
      }
    },
    {
      "cell_type": "markdown",
      "source": [
        "##💦 **Demo 1: Making a word quiz.**"
      ],
      "metadata": {
        "id": "MWpQZGE5wZgt"
      }
    },
    {
      "cell_type": "code",
      "source": [
        "#@markdown Run this code to see guesiong game\n",
        "import random\n",
        "\n",
        "# Define a dictionary of words and their hints\n",
        "word_hints = {\n",
        "    \"suprasegmental\": [\n",
        "        \"This term is related to the features of speech that go beyond individual sounds.\",\n",
        "        \"It is often associated with intonation, stress, and timing.\",\n",
        "        \"Examples include pitch, tone, and stress patterns.\",\n",
        "        \"The answer begins with 's'.\"\n",
        "    ],\n",
        "    \"geminate\": [\n",
        "        \"This term is related to a specific type of consonant.\",\n",
        "        \"It refers to a consonant that is pronounced for a longer duration than its regular counterpart.\",\n",
        "        \"In some languages, it can be represented by doubling the consonant in writing.\",\n",
        "        \"The answer begins with 'g'.\"\n",
        "    ],\n",
        "    \"syllable\": [\n",
        "        \"This term is related to a unit of speech.\",\n",
        "        \"It is a sequence of speech sounds, typically consisting of a vowel and any surrounding consonants.\",\n",
        "        \"A word can have one or multiple of these units.\",\n",
        "        \"The answer begins with 's'.\"\n",
        "    ]\n",
        "}\n",
        "\n",
        "# Define guessing game\n",
        "\n",
        "def guessing_game(word_hints):\n",
        "    words = list(word_hints.keys())\n",
        "    random.shuffle(words)\n",
        "\n",
        "    for word in words:\n",
        "        print(\"\\nGuess the word based on the following hints:\")\n",
        "        hints = word_hints[word]\n",
        "        attempts = 0\n",
        "\n",
        "        while attempts < len(hints):\n",
        "            print(f\"Hint {attempts + 1}: {hints[attempts]}\")\n",
        "            guess = input(\"Your guess: \").strip().lower()\n",
        "\n",
        "            if guess == word.lower():\n",
        "                print(\"Congratulations! You guessed the correct word!\\n\")\n",
        "                break\n",
        "            else:\n",
        "                print(\"Incorrect. Try again with another hint.\\n\")\n",
        "                attempts += 1\n",
        "\n",
        "        if attempts == len(hints):\n",
        "            print(f\"Sorry, you've run out of hints. The correct word was: {word}\\n\")\n",
        "\n",
        "# Using this conditional structure is a common practice in Python to allow a script to be both executed as a standalone program and imported as a module in other scripts without immediately running the code within the script.\n",
        "if __name__ == \"__main__\":\n",
        "  guessing_game(word_hints)"
      ],
      "metadata": {
        "cellView": "form",
        "id": "68fDLUnZs8KF",
        "outputId": "f4f60022-35c6-4a7d-ca45-0bc3ce165c5b",
        "colab": {
          "base_uri": "https://localhost:8080/"
        }
      },
      "execution_count": 1,
      "outputs": [
        {
          "output_type": "stream",
          "name": "stdout",
          "text": [
            "\n",
            "Guess the word based on the following hints:\n",
            "Hint 1: This term is related to a unit of speech.\n",
            "Your guess: \n",
            "Incorrect. Try again with another hint.\n",
            "\n",
            "Hint 2: It is a sequence of speech sounds, typically consisting of a vowel and any surrounding consonants.\n",
            "Your guess: segment\n",
            "Incorrect. Try again with another hint.\n",
            "\n",
            "Hint 3: A word can have one or multiple of these units.\n",
            "Your guess: voiced\n",
            "Incorrect. Try again with another hint.\n",
            "\n",
            "Hint 4: The answer begins with 's'.\n",
            "Your guess: sibilant\n",
            "Incorrect. Try again with another hint.\n",
            "\n",
            "Sorry, you've run out of hints. The correct word was: syllable\n",
            "\n",
            "\n",
            "Guess the word based on the following hints:\n",
            "Hint 1: This term is related to the features of speech that go beyond individual sounds.\n",
            "Your guess: \n",
            "Incorrect. Try again with another hint.\n",
            "\n",
            "Hint 2: It is often associated with intonation, stress, and timing.\n",
            "Your guess: feature\n",
            "Incorrect. Try again with another hint.\n",
            "\n",
            "Hint 3: Examples include pitch, tone, and stress patterns.\n",
            "Your guess: \n",
            "Incorrect. Try again with another hint.\n",
            "\n",
            "Hint 4: The answer begins with 's'.\n",
            "Your guess: stress\n",
            "Incorrect. Try again with another hint.\n",
            "\n",
            "Sorry, you've run out of hints. The correct word was: suprasegmental\n",
            "\n",
            "\n",
            "Guess the word based on the following hints:\n",
            "Hint 1: This term is related to a specific type of consonant.\n",
            "Your guess: \n",
            "Incorrect. Try again with another hint.\n",
            "\n",
            "Hint 2: It refers to a consonant that is pronounced for a longer duration than its regular counterpart.\n",
            "Your guess: stress\n",
            "Incorrect. Try again with another hint.\n",
            "\n",
            "Hint 3: In some languages, it can be represented by doubling the consonant in writing.\n",
            "Your guess: \n",
            "Incorrect. Try again with another hint.\n",
            "\n",
            "Hint 4: The answer begins with 'g'.\n",
            "Your guess: g\n",
            "Incorrect. Try again with another hint.\n",
            "\n",
            "Sorry, you've run out of hints. The correct word was: geminate\n",
            "\n"
          ]
        }
      ]
    },
    {
      "cell_type": "markdown",
      "source": [
        "##💦**Demo 2: Convert a statement to a yes-no question**"
      ],
      "metadata": {
        "id": "DKwjeU8pW-iu"
      }
    },
    {
      "cell_type": "code",
      "source": [
        "#@markdown Install and import libraries\n",
        "%%capture\n",
        "!pip install gtts\n",
        "!pip install IPython\n",
        "from gtts import gTTS\n",
        "from IPython.display import Audio, display\n",
        "\n",
        "#@markdown etts(), ktts()\n",
        "def etts(text):\n",
        "  text_to_say = text\n",
        "\n",
        "  gtts_object = gTTS(text = text_to_say,\n",
        "                     lang = \"en\",\n",
        "                    slow = False)\n",
        "  \n",
        "  gtts_object.save(\"E-audio.mp3\")\n",
        "  return Audio(\"E-audio.mp3\")\n",
        "\n",
        "def ktts(text):\n",
        "  text_to_say = text\n",
        "\n",
        "  gtts_object = gTTS(text = text_to_say,\n",
        "                     lang = \"ko\",\n",
        "                    slow = False)\n",
        "  \n",
        "  gtts_object.save(\"K-audio.mp3\")\n",
        "  return Audio(\"K-audio.mp3\")"
      ],
      "metadata": {
        "cellView": "form",
        "id": "TajMEehr8_7D"
      },
      "execution_count": 2,
      "outputs": []
    },
    {
      "cell_type": "markdown",
      "source": [
        "---\n",
        "### Complete version with some restriction \n",
        "\n",
        "1. The statement you're entering must contain a be-verb.\n",
        "2. If you use a proper noun as a subject, restrict it to one of the followings: \n",
        "\n",
        "> **Male: Tom, Thomas, Bill**\n",
        "\n",
        "> **Female: Mary, Jane, Jessica**\n",
        "\n",
        "2. Must contain a punctuation(.)\n",
        "---"
      ],
      "metadata": {
        "id": "5XYJaX2IDrOu"
      }
    },
    {
      "cell_type": "code",
      "source": [
        "#@markdown Statment to a Yes-No question (Audio autoplay)\n",
        "sentence = input(\"Type a sentence containing a be verb: e.g., I am a students.\\n\")\n",
        "beverbs = [\"is\", \"was\", \"are\", \"were\"]\n",
        "pronouns = [\"I\",\"You\",\"He\",\"She\",\"They\",\"It\"]\n",
        "names = [\"Mary\", \"Jane\", \"Tom\",\"Thomas\",\"Jessica\", \"Bill\"]\n",
        "\n",
        "def check_word(list_A, list_B):\n",
        "    for a in list_A:\n",
        "        for b in list_B:\n",
        "            if b in a:\n",
        "                mword = a\n",
        "                return True, mword\n",
        "    return False, None\n",
        "\n",
        "\n",
        "cat1 = sentence.split()\n",
        "\n",
        "result = check_word(cat1,beverbs)\n",
        "\n",
        "if result[0] == True:\n",
        "  if cat1[0] in pronouns:\n",
        "      b = result[1]\n",
        "      be = \" \"+b+\" \"\n",
        "      ss = sentence.split(be)\n",
        "      subj = ss[0]\n",
        "      nsubj = subj[0].lower()+subj[1:]\n",
        "      pred = ss[1]\n",
        "      w1 = b[0].upper() + b[1:] # Capitalized be verb\n",
        "      newsent = w1 + \" \" + nsubj + \" \" + pred[:-1] + \"?\"\n",
        "      mytext = \"I'll make it to a yes-no question: \" + newsent\n",
        "      print(\"Yes-no question: \", newsent)\n",
        "  elif cat1[0] not in pronouns and cat1[0] in names:\n",
        "        b = result[1]\n",
        "        be = \" \"+b+\" \"\n",
        "        ss = sentence.split(be)\n",
        "        subj = ss[0]\n",
        "        pred = ss[1]\n",
        "        w1 = b[0].upper() + b[1:] # Capitalized be verb\n",
        "        newsent = w1 + \" \" + subj + \" \" + pred[:-1] + \"?\"\n",
        "        mytext = \"I'll make it to a yes-no question: \" + newsent\n",
        "        print(\"Yes-no question: \", newsent)\n",
        "  elif cat1[0] not in pronouns and cat1[0] not in names:\n",
        "        b = result[1]\n",
        "        be = \" \"+b+\" \"\n",
        "        ss = sentence.split(be)\n",
        "        subj = ss[0]\n",
        "        nsubj = subj[0].lower()+subj[1:]\n",
        "        pred = ss[1]\n",
        "        w1 = b[0].upper() + b[1:] # Capitalized be verb\n",
        "        newsent = w1 + \" \" + nsubj + \" \" + pred[:-1] + \"?\"\n",
        "        mytext = \"I'll make it to a yes-no question: \" + newsent\n",
        "        print(\"Yes-no question: \", newsent)\n",
        "\n",
        "else:\n",
        "    mytext = \"The sentence you\\' provided does not contain a 'Be' verb. Try again.\"\n",
        "    print(\"Type a sentence that contains a be verb.\")\n",
        "\n",
        "etts(mytext)\n",
        "Audio(\"E-audio.mp3\",autoplay=True)"
      ],
      "metadata": {
        "cellView": "form",
        "id": "ZjPSWFub-55P",
        "outputId": "cde27a7c-5aad-4b4f-f1db-0ae95ea0a8d1",
        "colab": {
          "base_uri": "https://localhost:8080/",
          "height": 129
        }
      },
      "execution_count": 4,
      "outputs": [
        {
          "output_type": "stream",
          "name": "stdout",
          "text": [
            "Type a sentence containing a be verb: e.g., I am a students.\n",
            "A boy is meeting his father.\n",
            "Yes-no question:  Is a boy meeting his father?\n"
          ]
        },
        {
          "output_type": "execute_result",
          "data": {
            "text/plain": [
              "<IPython.lib.display.Audio object>"
            ],
            "text/html": [
              "\n",
              "                <audio  controls=\"controls\" autoplay=\"autoplay\">\n",
              "                    <source src=\"data:audio/mpeg;base64,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\" type=\"audio/mpeg\" />\n",
              "                    Your browser does not support the audio element.\n",
              "                </audio>\n",
              "              "
            ]
          },
          "metadata": {},
          "execution_count": 4
        }
      ]
    },
    {
      "cell_type": "markdown",
      "source": [
        "## 💦**Demo 3: Story game**"
      ],
      "metadata": {
        "id": "UG0_f0gJQl1r"
      }
    },
    {
      "cell_type": "code",
      "source": [
        "#@markdown Adventure game with reading\n",
        "print(\"Welcome to the adventure game!\")\n",
        "print(\"=\"*50)\n",
        "print(\"You are a high school student who has been chosen to embark on a quest to save your town from a mysterious curse.\")\n",
        "print(\"You will face various challenges and choices along the way, and your decisions will determine the outcome of the story.\")\n",
        "print(\"=\"*50)\n",
        "name = input(\"What is your name? \")\n",
        "print(\"=\"*50)\n",
        "print(f\"Nice to meet you, {name}! Are you ready to begin?\")\n",
        "print(\"=\"*50)\n",
        "# Start of the story\n",
        "print(\"You wake up one morning to find that your town is covered in a thick fog.\")\n",
        "print(\"People are starting to get sick, and strange things are happening.\")\n",
        "print(\"You decide to investigate and find out that a curse has been cast upon the town.\")\n",
        "print(\"You meet a wise old sage who tells you that the only way to lift the curse is to find a magical artifact that is hidden in a dangerous dungeon.\")\n",
        "print(\"=\"*50)\n",
        "# First choice\n",
        "print(\"You have two options:\")\n",
        "print(\"Option 1: Search for clues in the town.\")\n",
        "print(\"Option 2: Go straight to the dungeon.\")\n",
        "print(\"=\"*50)\n",
        "choice = input(\"Which option do you choose? (1 or 2) \")\n",
        "print(\"=\"*50)\n",
        "if choice == \"1\":\n",
        "    print(\"You spend the day talking to townspeople and searching for clues.\")\n",
        "    print(\"You find a cryptic message that leads you to a hidden cave.\")\n",
        "elif choice == \"2\":\n",
        "    print(\"You journey to the dungeon and face many dangers along the way.\")\n",
        "    print(\"You eventually reach the entrance to the dungeon.\")\n",
        "print(\"=\"*50)\n",
        "# Second choice\n",
        "print(\"You have two options:\")\n",
        "print(\"Option 1: Enter the cave.\")\n",
        "print(\"Option 2: Enter the dungeon.\")\n",
        "print(\"=\"*50)\n",
        "choice = input(\"Which option do you choose? (1 or 2) \")\n",
        "print(\"=\"*50)\n",
        "if choice == \"1\":\n",
        "    print(\"=\"*50)\n",
        "    print(\"You enter the cave and find the magical artifact!\")\n",
        "    print(\"You bring it back to the town and the curse is lifted.\")\n",
        "    print(\"Congratulations! You have saved the town!\")\n",
        "    print(\"=\"*50)\n",
        "elif choice == \"2\":\n",
        "    print(\"=\"*50)\n",
        "    print(\"You enter the dungeon and face many challenges.\")\n",
        "    print(\"You eventually find the magical artifact, but it is guarded by a powerful monster.\")\n",
        "    print(\"You must defeat the monster to retrieve the artifact.\")\n",
        "    print(\"You engage in a fierce battle!\")\n",
        "    print(\"You lost the battle and the curse remains.\")\n",
        "    print(\"Brave You! Though the curse remains, people appreicate your effort.\")\n",
        "    print(\"=\"*50)\n"
      ],
      "metadata": {
        "cellView": "form",
        "id": "qBAUNW9qP75J",
        "outputId": "2ee96e71-bf90-4e24-f545-eb8d18f43813",
        "colab": {
          "base_uri": "https://localhost:8080/"
        }
      },
      "execution_count": 5,
      "outputs": [
        {
          "output_type": "stream",
          "name": "stdout",
          "text": [
            "Welcome to the adventure game!\n",
            "==================================================\n",
            "You are a high school student who has been chosen to embark on a quest to save your town from a mysterious curse.\n",
            "You will face various challenges and choices along the way, and your decisions will determine the outcome of the story.\n",
            "==================================================\n",
            "What is your name? Somi\n",
            "==================================================\n",
            "Nice to meet you, Somi! Are you ready to begin?\n",
            "==================================================\n",
            "You wake up one morning to find that your town is covered in a thick fog.\n",
            "People are starting to get sick, and strange things are happening.\n",
            "You decide to investigate and find out that a curse has been cast upon the town.\n",
            "You meet a wise old sage who tells you that the only way to lift the curse is to find a magical artifact that is hidden in a dangerous dungeon.\n",
            "==================================================\n",
            "You have two options:\n",
            "Option 1: Search for clues in the town.\n",
            "Option 2: Go straight to the dungeon.\n",
            "==================================================\n",
            "Which option do you choose? (1 or 2) 1\n",
            "==================================================\n",
            "You spend the day talking to townspeople and searching for clues.\n",
            "You find a cryptic message that leads you to a hidden cave.\n",
            "==================================================\n",
            "You have two options:\n",
            "Option 1: Enter the cave.\n",
            "Option 2: Enter the dungeon.\n",
            "==================================================\n",
            "Which option do you choose? (1 or 2) 2\n",
            "==================================================\n",
            "==================================================\n",
            "You enter the dungeon and face many challenges.\n",
            "You eventually find the magical artifact, but it is guarded by a powerful monster.\n",
            "You must defeat the monster to retrieve the artifact.\n",
            "You engage in a fierce battle!\n",
            "You lost the battle and the curse remains.\n",
            "Brave You! Though the curse remains, people appreicate your effort.\n",
            "==================================================\n"
          ]
        }
      ]
    },
    {
      "cell_type": "code",
      "source": [
        "#@markdown Story game with listening (audio)\n",
        "from gtts import gTTS\n",
        "import IPython.display as ipd\n",
        "\n",
        "def play_audio(text):\n",
        "    language = 'en'\n",
        "    audio = gTTS(text=text, lang=language, slow=False)\n",
        "    audio.save(\"audio.mp3\")\n",
        "    ipd.display(ipd.Audio(\"audio.mp3\", autoplay=True))\n",
        "\n",
        "# Introduction\n",
        "play_audio(\"Welcome to the story game. You are walking home from school when you hear footsteps behind you. You look back and see a shady figure in the distance. What do you do?\")\n",
        "ipd.clear_output(wait=True)\n",
        "input(\"Press Enter to continue...\")\n",
        "\n",
        "# Stage 1\n",
        "play_audio(\"You decide to run. Do you run towards the park or towards the busy street?\")\n",
        "ipd.clear_output(wait=True)\n",
        "choice = input(\"Enter 1 to run towards the park, or 2 to run towards the busy street: \")\n",
        "if choice == \"1\":\n",
        "    play_audio(\"You run towards the park and manage to lose the shady figure. You continue walking home and make it back safely.\")\n",
        "elif choice == \"2\":\n",
        "    play_audio(\"You run towards the busy street, hoping to find someone to help you. As you get closer, you realize that the figure is a police officer. You stop and explain what happened, and the officer escorts you home safely.\")\n",
        "ipd.clear_output(wait=True)\n",
        "input(\"Press Enter to continue...\")\n",
        "\n",
        "# Stage 2\n",
        "play_audio(\"You arrive home and find that your front door is slightly open. Do you go inside or call the police?\")\n",
        "ipd.clear_output(wait=True)\n",
        "choice = input(\"Enter 1 to go inside, or 2 to call the police: \")\n",
        "if choice == \"1\":\n",
        "    play_audio(\"You cautiously enter your home and find that everything is as you left it. You breathe a sigh of relief and go about your evening.\")\n",
        "elif choice == \"2\":\n",
        "    play_audio(\"You call the police and they arrive shortly after. They search your home and find no one inside. You spend the night at a friend's house and return home the next day.\")\n",
        "ipd.clear_output(wait=True)\n",
        "input(\"Press Enter to continue...\")\n",
        "\n",
        "# Conclusion\n",
        "play_audio(\"Good choice! you have successfully made it home safely. Thanks for playing!\")\n",
        "ipd.clear_output(wait=True)\n"
      ],
      "metadata": {
        "cellView": "form",
        "id": "mx_BDEl-TqLe",
        "outputId": "e353a439-1dc4-4286-b17a-d1a69fd64aa2",
        "colab": {
          "base_uri": "https://localhost:8080/",
          "height": 439
        }
      },
      "execution_count": 7,
      "outputs": [
        {
          "output_type": "error",
          "ename": "KeyboardInterrupt",
          "evalue": "ignored",
          "traceback": [
            "\u001b[0;31m---------------------------------------------------------------------------\u001b[0m",
            "\u001b[0;31mKeyboardInterrupt\u001b[0m                         Traceback (most recent call last)",
            "\u001b[0;32m<ipython-input-7-8cc5e82b49df>\u001b[0m in \u001b[0;36m<cell line: 14>\u001b[0;34m()\u001b[0m\n\u001b[1;32m     12\u001b[0m \u001b[0mplay_audio\u001b[0m\u001b[0;34m(\u001b[0m\u001b[0;34m\"Welcome to the story game. You are walking home from school when you hear footsteps behind you. You look back and see a shady figure in the distance. What do you do?\"\u001b[0m\u001b[0;34m)\u001b[0m\u001b[0;34m\u001b[0m\u001b[0;34m\u001b[0m\u001b[0m\n\u001b[1;32m     13\u001b[0m \u001b[0mipd\u001b[0m\u001b[0;34m.\u001b[0m\u001b[0mclear_output\u001b[0m\u001b[0;34m(\u001b[0m\u001b[0mwait\u001b[0m\u001b[0;34m=\u001b[0m\u001b[0;32mTrue\u001b[0m\u001b[0;34m)\u001b[0m\u001b[0;34m\u001b[0m\u001b[0;34m\u001b[0m\u001b[0m\n\u001b[0;32m---> 14\u001b[0;31m \u001b[0minput\u001b[0m\u001b[0;34m(\u001b[0m\u001b[0;34m\"Press Enter to continue...\"\u001b[0m\u001b[0;34m)\u001b[0m\u001b[0;34m\u001b[0m\u001b[0;34m\u001b[0m\u001b[0m\n\u001b[0m\u001b[1;32m     15\u001b[0m \u001b[0;34m\u001b[0m\u001b[0m\n\u001b[1;32m     16\u001b[0m \u001b[0;31m# Stage 1\u001b[0m\u001b[0;34m\u001b[0m\u001b[0;34m\u001b[0m\u001b[0m\n",
            "\u001b[0;32m/usr/local/lib/python3.9/dist-packages/ipykernel/kernelbase.py\u001b[0m in \u001b[0;36mraw_input\u001b[0;34m(self, prompt)\u001b[0m\n\u001b[1;32m    849\u001b[0m                 \u001b[0;34m\"raw_input was called, but this frontend does not support input requests.\"\u001b[0m\u001b[0;34m\u001b[0m\u001b[0;34m\u001b[0m\u001b[0m\n\u001b[1;32m    850\u001b[0m             )\n\u001b[0;32m--> 851\u001b[0;31m         return self._input_request(str(prompt),\n\u001b[0m\u001b[1;32m    852\u001b[0m             \u001b[0mself\u001b[0m\u001b[0;34m.\u001b[0m\u001b[0m_parent_ident\u001b[0m\u001b[0;34m,\u001b[0m\u001b[0;34m\u001b[0m\u001b[0;34m\u001b[0m\u001b[0m\n\u001b[1;32m    853\u001b[0m             \u001b[0mself\u001b[0m\u001b[0;34m.\u001b[0m\u001b[0m_parent_header\u001b[0m\u001b[0;34m,\u001b[0m\u001b[0;34m\u001b[0m\u001b[0;34m\u001b[0m\u001b[0m\n",
            "\u001b[0;32m/usr/local/lib/python3.9/dist-packages/ipykernel/kernelbase.py\u001b[0m in \u001b[0;36m_input_request\u001b[0;34m(self, prompt, ident, parent, password)\u001b[0m\n\u001b[1;32m    893\u001b[0m             \u001b[0;32mexcept\u001b[0m \u001b[0mKeyboardInterrupt\u001b[0m\u001b[0;34m:\u001b[0m\u001b[0;34m\u001b[0m\u001b[0;34m\u001b[0m\u001b[0m\n\u001b[1;32m    894\u001b[0m                 \u001b[0;31m# re-raise KeyboardInterrupt, to truncate traceback\u001b[0m\u001b[0;34m\u001b[0m\u001b[0;34m\u001b[0m\u001b[0m\n\u001b[0;32m--> 895\u001b[0;31m                 \u001b[0;32mraise\u001b[0m \u001b[0mKeyboardInterrupt\u001b[0m\u001b[0;34m(\u001b[0m\u001b[0;34m\"Interrupted by user\"\u001b[0m\u001b[0;34m)\u001b[0m \u001b[0;32mfrom\u001b[0m \u001b[0;32mNone\u001b[0m\u001b[0;34m\u001b[0m\u001b[0;34m\u001b[0m\u001b[0m\n\u001b[0m\u001b[1;32m    896\u001b[0m             \u001b[0;32mexcept\u001b[0m \u001b[0mException\u001b[0m \u001b[0;32mas\u001b[0m \u001b[0me\u001b[0m\u001b[0;34m:\u001b[0m\u001b[0;34m\u001b[0m\u001b[0;34m\u001b[0m\u001b[0m\n\u001b[1;32m    897\u001b[0m                 \u001b[0mself\u001b[0m\u001b[0;34m.\u001b[0m\u001b[0mlog\u001b[0m\u001b[0;34m.\u001b[0m\u001b[0mwarning\u001b[0m\u001b[0;34m(\u001b[0m\u001b[0;34m\"Invalid Message:\"\u001b[0m\u001b[0;34m,\u001b[0m \u001b[0mexc_info\u001b[0m\u001b[0;34m=\u001b[0m\u001b[0;32mTrue\u001b[0m\u001b[0;34m)\u001b[0m\u001b[0;34m\u001b[0m\u001b[0;34m\u001b[0m\u001b[0m\n",
            "\u001b[0;31mKeyboardInterrupt\u001b[0m: Interrupted by user"
          ]
        }
      ]
    },
    {
      "cell_type": "markdown",
      "source": [
        "---\n",
        "# 📙Concepts and elements to cover for our goal:\n",
        "\n",
        "0. Importing modules: Explain how to import a module (like random) and use its functions (like random.shuffle()).\n",
        "\n",
        "1. Python basics: Basic data types (strings, integers, lists, dictionaries), variables, and basic input/output functions (like print() and input()).\n",
        "\n",
        "2. String manipulation: Cover string methods like .strip() and .lower().\n",
        "3. Control structures: Introduce for loops, while loops, and conditional statements (if, elif, else).\n",
        "\n",
        "4. Functions: Explain how to define and use functions, including function parameters. \n",
        "\n",
        "5. F-strings: Introduce f-strings (formatted string literals) and how to embed expressions inside string literals using curly braces {}.\n",
        "---"
      ],
      "metadata": {
        "id": "2VMRdKbJwOsk"
      }
    },
    {
      "cell_type": "markdown",
      "source": [
        "# [0] Importing modules\n",
        "\n",
        "1. **function, (class), module, package, and library**\n",
        "\n",
        "> (class) > functions\n",
        "\n",
        "\n",
        "2. Let's use the analogy of a toolbox: \n",
        "\n",
        "+ **a module** is a single tool, (e.g., random) \n",
        "+ **a package** is a toolbox containing multiple tools (e.g., gTTS)\n",
        "+ **a library** is a set of toolboxes designed for a specific purpose. (e.g., nltk - Natural Language Tool Kit) _>> Next time_"
      ],
      "metadata": {
        "id": "wgZEzhkQwzc3"
      }
    },
    {
      "cell_type": "markdown",
      "source": [
        "##A. 'gTTS' package"
      ],
      "metadata": {
        "id": "298wKG9q7-rN"
      }
    },
    {
      "cell_type": "code",
      "source": [
        "!pip install gtts\n",
        "!pip install IPython\n",
        "from gtts import gTTS\n",
        "from IPython.display import Audio, display"
      ],
      "metadata": {
        "id": "YLCRqNbW8E9J",
        "outputId": "55cd6ca4-7392-4c82-b584-5a5e129d97f7",
        "colab": {
          "base_uri": "https://localhost:8080/"
        }
      },
      "execution_count": 8,
      "outputs": [
        {
          "output_type": "stream",
          "name": "stdout",
          "text": [
            "Looking in indexes: https://pypi.org/simple, https://us-python.pkg.dev/colab-wheels/public/simple/\n",
            "Requirement already satisfied: gtts in /usr/local/lib/python3.9/dist-packages (2.3.1)\n",
            "Requirement already satisfied: click<8.2,>=7.1 in /usr/local/lib/python3.9/dist-packages (from gtts) (8.1.3)\n",
            "Requirement already satisfied: requests<3,>=2.27 in /usr/local/lib/python3.9/dist-packages (from gtts) (2.27.1)\n",
            "Requirement already satisfied: idna<4,>=2.5 in /usr/local/lib/python3.9/dist-packages (from requests<3,>=2.27->gtts) (3.4)\n",
            "Requirement already satisfied: urllib3<1.27,>=1.21.1 in /usr/local/lib/python3.9/dist-packages (from requests<3,>=2.27->gtts) (1.26.15)\n",
            "Requirement already satisfied: certifi>=2017.4.17 in /usr/local/lib/python3.9/dist-packages (from requests<3,>=2.27->gtts) (2022.12.7)\n",
            "Requirement already satisfied: charset-normalizer~=2.0.0 in /usr/local/lib/python3.9/dist-packages (from requests<3,>=2.27->gtts) (2.0.12)\n",
            "Looking in indexes: https://pypi.org/simple, https://us-python.pkg.dev/colab-wheels/public/simple/\n",
            "Requirement already satisfied: IPython in /usr/local/lib/python3.9/dist-packages (7.34.0)\n",
            "Requirement already satisfied: backcall in /usr/local/lib/python3.9/dist-packages (from IPython) (0.2.0)\n",
            "Requirement already satisfied: decorator in /usr/local/lib/python3.9/dist-packages (from IPython) (4.4.2)\n",
            "Requirement already satisfied: jedi>=0.16 in /usr/local/lib/python3.9/dist-packages (from IPython) (0.18.2)\n",
            "Requirement already satisfied: pickleshare in /usr/local/lib/python3.9/dist-packages (from IPython) (0.7.5)\n",
            "Requirement already satisfied: pygments in /usr/local/lib/python3.9/dist-packages (from IPython) (2.14.0)\n",
            "Requirement already satisfied: pexpect>4.3 in /usr/local/lib/python3.9/dist-packages (from IPython) (4.8.0)\n",
            "Requirement already satisfied: prompt-toolkit!=3.0.0,!=3.0.1,<3.1.0,>=2.0.0 in /usr/local/lib/python3.9/dist-packages (from IPython) (3.0.38)\n",
            "Requirement already satisfied: traitlets>=4.2 in /usr/local/lib/python3.9/dist-packages (from IPython) (5.7.1)\n",
            "Requirement already satisfied: matplotlib-inline in /usr/local/lib/python3.9/dist-packages (from IPython) (0.1.6)\n",
            "Requirement already satisfied: setuptools>=18.5 in /usr/local/lib/python3.9/dist-packages (from IPython) (67.6.1)\n",
            "Requirement already satisfied: parso<0.9.0,>=0.8.0 in /usr/local/lib/python3.9/dist-packages (from jedi>=0.16->IPython) (0.8.3)\n",
            "Requirement already satisfied: ptyprocess>=0.5 in /usr/local/lib/python3.9/dist-packages (from pexpect>4.3->IPython) (0.7.0)\n",
            "Requirement already satisfied: wcwidth in /usr/local/lib/python3.9/dist-packages (from prompt-toolkit!=3.0.0,!=3.0.1,<3.1.0,>=2.0.0->IPython) (0.2.6)\n"
          ]
        }
      ]
    },
    {
      "cell_type": "code",
      "source": [
        "#@markdown etts(), ktts()\n",
        "def etts(text):\n",
        "  text_to_say = text\n",
        "\n",
        "  gtts_object = gTTS(text = text_to_say,\n",
        "                     lang = \"en\",\n",
        "                    slow = False)\n",
        "  \n",
        "  gtts_object.save(\"E-audio.mp3\")\n",
        "  return Audio(\"E-audio.mp3\")\n",
        "\n",
        "def ktts(text):\n",
        "  text_to_say = text\n",
        "\n",
        "  gtts_object = gTTS(text = text_to_say,\n",
        "                     lang = \"ko\",\n",
        "                    slow = False)\n",
        "  \n",
        "  gtts_object.save(\"K-audio.mp3\")\n",
        "  return Audio(\"K-audio.mp3\")"
      ],
      "metadata": {
        "id": "bYDfENzGRUFb"
      },
      "execution_count": 9,
      "outputs": []
    },
    {
      "cell_type": "markdown",
      "source": [
        "## B. 'random' module\n",
        "\n",
        "[Random Picker App using 'random'](https://github.com/MK316/Spring2023/blob/main/RandomPickerS23.ipynb)"
      ],
      "metadata": {
        "id": "vSFe_Umb68o9"
      }
    },
    {
      "cell_type": "code",
      "source": [
        "import random"
      ],
      "metadata": {
        "id": "t8tYICF_1Yx8"
      },
      "execution_count": 10,
      "outputs": []
    },
    {
      "cell_type": "markdown",
      "source": [
        "Return a number between 3 and 9 (both included):"
      ],
      "metadata": {
        "id": "RlWQ5dXark-r"
      }
    },
    {
      "cell_type": "code",
      "source": [
        "random.randint(1, 100) #random.randint(x,y)는 함수이므로 문법대로 사용해야 함."
      ],
      "metadata": {
        "colab": {
          "base_uri": "https://localhost:8080/"
        },
        "id": "sMf1Ow7W11EZ",
        "outputId": "0793df3f-143d-4880-f3d0-a6e51a21ef1b"
      },
      "execution_count": 15,
      "outputs": [
        {
          "output_type": "execute_result",
          "data": {
            "text/plain": [
              "83"
            ]
          },
          "metadata": {},
          "execution_count": 15
        }
      ]
    },
    {
      "cell_type": "code",
      "source": [
        "a1 = random.randint(1, 10)\n",
        "a1*10  #변수를 이용하면 결과값을 이용한 다른 연산이나 작업이 가능하다."
      ],
      "metadata": {
        "colab": {
          "base_uri": "https://localhost:8080/"
        },
        "id": "WUVN9-Rs825s",
        "outputId": "05a7f682-de8b-40b2-9031-3f65f15f3742"
      },
      "execution_count": 19,
      "outputs": [
        {
          "output_type": "execute_result",
          "data": {
            "text/plain": [
              "80"
            ]
          },
          "metadata": {},
          "execution_count": 19
        }
      ]
    },
    {
      "cell_type": "markdown",
      "source": [
        "# [1] Python basics: \n",
        "\n",
        "+ Basic data types (strings, integers, lists, dictionaries), \n",
        "+ variables, \n",
        "+ basic input/output functions (like print() and input()).\n",
        "\n"
      ],
      "metadata": {
        "id": "_vTm-kXl8qa_"
      }
    },
    {
      "cell_type": "markdown",
      "source": [],
      "metadata": {
        "id": "GX6-jhdVkv5t"
      }
    },
    {
      "cell_type": "markdown",
      "source": [
        "## [1-1] Basic data types"
      ],
      "metadata": {
        "id": "qaQ0_hkoENRX"
      }
    },
    {
      "cell_type": "markdown",
      "source": [
        "### A. strings"
      ],
      "metadata": {
        "id": "HB86s1k990Hh"
      }
    },
    {
      "cell_type": "code",
      "source": [
        "a2 = \"Welcome\"\n",
        "a3 = \"2023\""
      ],
      "metadata": {
        "id": "L_OImwSL94Kr"
      },
      "execution_count": null,
      "outputs": []
    },
    {
      "cell_type": "markdown",
      "source": [
        "☺️ DIY: How to get \"Welcome, 2023!\""
      ],
      "metadata": {
        "id": "wkYUBwu1-IvG"
      }
    },
    {
      "cell_type": "code",
      "source": [],
      "metadata": {
        "id": "XZ2LHJcl9_u4",
        "outputId": "f6b592bd-8a7f-4b62-e14f-f97e80cdece8",
        "colab": {
          "base_uri": "https://localhost:8080/",
          "height": 35
        }
      },
      "execution_count": null,
      "outputs": [
        {
          "output_type": "execute_result",
          "data": {
            "text/plain": [
              "'Welcome, 2023!'"
            ],
            "application/vnd.google.colaboratory.intrinsic+json": {
              "type": "string"
            }
          },
          "metadata": {},
          "execution_count": 20
        }
      ]
    },
    {
      "cell_type": "markdown",
      "source": [
        "☺️ DIY: Let a4 = \"화이팅\", and get '화이팅화이팅화이팅화이팅화이팅화이팅화이팅화이팅화이팅화이팅'(10번)"
      ],
      "metadata": {
        "id": "WNaHBznU-yEd"
      }
    },
    {
      "cell_type": "code",
      "source": [],
      "metadata": {
        "id": "0vfPcih3-xg4",
        "outputId": "be3891a2-8eba-4f0b-a31b-9e0ed445871a",
        "colab": {
          "base_uri": "https://localhost:8080/",
          "height": 35
        }
      },
      "execution_count": null,
      "outputs": [
        {
          "output_type": "execute_result",
          "data": {
            "text/plain": [
              "'화이팅화이팅화이팅화이팅화이팅화이팅화이팅화이팅화이팅화이팅'"
            ],
            "application/vnd.google.colaboratory.intrinsic+json": {
              "type": "string"
            }
          },
          "metadata": {},
          "execution_count": 21
        }
      ]
    },
    {
      "cell_type": "code",
      "source": [
        "type(a2). # data type of the variable a2"
      ],
      "metadata": {
        "colab": {
          "base_uri": "https://localhost:8080/"
        },
        "id": "1XroWNyGADZU",
        "outputId": "05a0322b-a18c-401f-8aa2-ec8a7975d907"
      },
      "execution_count": null,
      "outputs": [
        {
          "output_type": "execute_result",
          "data": {
            "text/plain": [
              "str"
            ]
          },
          "metadata": {},
          "execution_count": 22
        }
      ]
    },
    {
      "cell_type": "markdown",
      "source": [
        "###B. Integers, float"
      ],
      "metadata": {
        "id": "kpNXrqZ2_9I2"
      }
    },
    {
      "cell_type": "code",
      "source": [
        "x1 = 45; y1 = 0.5\n",
        "x1 * y1"
      ],
      "metadata": {
        "colab": {
          "base_uri": "https://localhost:8080/"
        },
        "id": "CEs2BHNbAB1Q",
        "outputId": "e63af813-d7ca-422b-91d2-75a50ef4564e"
      },
      "execution_count": null,
      "outputs": [
        {
          "output_type": "execute_result",
          "data": {
            "text/plain": [
              "22.5"
            ]
          },
          "metadata": {},
          "execution_count": 23
        }
      ]
    },
    {
      "cell_type": "code",
      "source": [],
      "metadata": {
        "id": "2WarI3IQsRJX",
        "outputId": "8304e3e2-9753-45f0-adb6-b2da469a304a",
        "colab": {
          "base_uri": "https://localhost:8080/"
        }
      },
      "execution_count": null,
      "outputs": [
        {
          "output_type": "execute_result",
          "data": {
            "text/plain": [
              "float"
            ]
          },
          "metadata": {},
          "execution_count": 24
        }
      ]
    },
    {
      "cell_type": "markdown",
      "source": [
        "### C. List datatype"
      ],
      "metadata": {
        "id": "S7PJcJFkBO46"
      }
    },
    {
      "cell_type": "code",
      "source": [
        "x2 = [1,2,3]\n",
        "x2"
      ],
      "metadata": {
        "colab": {
          "base_uri": "https://localhost:8080/"
        },
        "id": "LjSEH6lABR98",
        "outputId": "eb284b7f-40ef-48c5-ea6f-926543a1ee7b"
      },
      "execution_count": null,
      "outputs": [
        {
          "output_type": "execute_result",
          "data": {
            "text/plain": [
              "[1, 2, 3]"
            ]
          },
          "metadata": {},
          "execution_count": 26
        }
      ]
    },
    {
      "cell_type": "markdown",
      "source": [
        "x2[index]: Python index starts from 0"
      ],
      "metadata": {
        "id": "xcPyj0Fesdiu"
      }
    },
    {
      "cell_type": "code",
      "source": [
        "x2[0]"
      ],
      "metadata": {
        "id": "VGWl1av6BYGu"
      },
      "execution_count": null,
      "outputs": []
    },
    {
      "cell_type": "code",
      "source": [
        "# range(x,y)\n",
        "x3 = range(1,10)\n",
        "list(x3)  #list(), range(1,10)"
      ],
      "metadata": {
        "colab": {
          "base_uri": "https://localhost:8080/"
        },
        "id": "WNmjoCQ1ANr4",
        "outputId": "9e1cf838-bd7f-47f5-def6-731599ef24a5"
      },
      "execution_count": null,
      "outputs": [
        {
          "output_type": "execute_result",
          "data": {
            "text/plain": [
              "[1, 2, 3, 4, 5, 6, 7, 8, 9]"
            ]
          },
          "metadata": {},
          "execution_count": 28
        }
      ]
    },
    {
      "cell_type": "code",
      "source": [
        "x4 = \"John\"\n",
        "list(x4)"
      ],
      "metadata": {
        "colab": {
          "base_uri": "https://localhost:8080/"
        },
        "id": "amRP-ytuBlO6",
        "outputId": "a8eeef49-a6aa-4452-f9e2-d933278c0bdc"
      },
      "execution_count": null,
      "outputs": [
        {
          "output_type": "execute_result",
          "data": {
            "text/plain": [
              "['J', 'o', 'h', 'n']"
            ]
          },
          "metadata": {},
          "execution_count": 29
        }
      ]
    },
    {
      "cell_type": "markdown",
      "source": [
        "###D. Dictionary datatype: {'key':'value'}\n",
        "\n",
        "In Python, a dictionary is a built-in data type that represents a collection of key-value pairs. Each key-value pair in a dictionary is separated by a colon (:), and each pair is separated by a comma. "
      ],
      "metadata": {
        "id": "ZoyOSN_QCCdO"
      }
    },
    {
      "cell_type": "code",
      "source": [
        "mydict = {\"API\":\"Application Programming Interface\", \"GPT\":\"Generative Pretrained Transformer\"}\n",
        "mydict['API']"
      ],
      "metadata": {
        "colab": {
          "base_uri": "https://localhost:8080/",
          "height": 35
        },
        "id": "PdRkfL3JBMWK",
        "outputId": "0e165aee-8079-4359-c38e-64e33c14c9ac"
      },
      "execution_count": null,
      "outputs": [
        {
          "output_type": "execute_result",
          "data": {
            "text/plain": [
              "'Application Programming Interface'"
            ],
            "application/vnd.google.colaboratory.intrinsic+json": {
              "type": "string"
            }
          },
          "metadata": {},
          "execution_count": 30
        }
      ]
    },
    {
      "cell_type": "code",
      "source": [
        "mydict['GPT']"
      ],
      "metadata": {
        "id": "muVfPouBs47b",
        "outputId": "1d08be3c-9e45-4a57-c0e4-1d7ff7368986",
        "colab": {
          "base_uri": "https://localhost:8080/",
          "height": 35
        }
      },
      "execution_count": null,
      "outputs": [
        {
          "output_type": "execute_result",
          "data": {
            "text/plain": [
              "'Generative Pretrained Transformer'"
            ],
            "application/vnd.google.colaboratory.intrinsic+json": {
              "type": "string"
            }
          },
          "metadata": {},
          "execution_count": 31
        }
      ]
    },
    {
      "cell_type": "code",
      "source": [
        "class_size = {\"Class A\": 25, \"Class B\": 30, \"Class C\": 32}\n",
        "class_size['Class C']"
      ],
      "metadata": {
        "colab": {
          "base_uri": "https://localhost:8080/"
        },
        "id": "WBs-NrEJDQRC",
        "outputId": "6c9a6b9f-6471-4424-a133-d47bb0d08f8c"
      },
      "execution_count": null,
      "outputs": [
        {
          "output_type": "execute_result",
          "data": {
            "text/plain": [
              "32"
            ]
          },
          "metadata": {},
          "execution_count": 32
        }
      ]
    },
    {
      "cell_type": "markdown",
      "source": [
        "## [1-2] Variables"
      ],
      "metadata": {
        "id": "0m_ux_SoEUos"
      }
    },
    {
      "cell_type": "markdown",
      "source": [
        "## [1-3] input/output functions"
      ],
      "metadata": {
        "id": "YUasz63dEYAX"
      }
    },
    {
      "cell_type": "code",
      "source": [
        "mynumber = 2\n",
        "mynumber"
      ],
      "metadata": {
        "colab": {
          "base_uri": "https://localhost:8080/"
        },
        "id": "BSp7TWkeEfmz",
        "outputId": "3bcd84d2-c721-4bc7-da68-a245706b8b5c"
      },
      "execution_count": null,
      "outputs": [
        {
          "output_type": "execute_result",
          "data": {
            "text/plain": [
              "2"
            ]
          },
          "metadata": {},
          "execution_count": 87
        }
      ]
    },
    {
      "cell_type": "code",
      "source": [
        "yournumber = input()  # In Python, input() is a built-in function that allows you to get user input from the keyboard. \n",
        "yournumber"
      ],
      "metadata": {
        "colab": {
          "base_uri": "https://localhost:8080/",
          "height": 53
        },
        "id": "6LZudH_0En_w",
        "outputId": "783d5cc3-75a8-465a-963e-b294e0816f0a"
      },
      "execution_count": null,
      "outputs": [
        {
          "name": "stdout",
          "output_type": "stream",
          "text": [
            "4\n"
          ]
        },
        {
          "output_type": "execute_result",
          "data": {
            "text/plain": [
              "'4'"
            ],
            "application/vnd.google.colaboratory.intrinsic+json": {
              "type": "string"
            }
          },
          "metadata": {},
          "execution_count": 33
        }
      ]
    },
    {
      "cell_type": "markdown",
      "source": [
        "☺️ After running the code below, can you tell what the resulting output means?"
      ],
      "metadata": {
        "id": "-Z1mQqzlH4k5"
      }
    },
    {
      "cell_type": "code",
      "source": [
        "yournumber*5"
      ],
      "metadata": {
        "colab": {
          "base_uri": "https://localhost:8080/",
          "height": 35
        },
        "id": "5cGgSs3qHxG_",
        "outputId": "61f4269a-ed03-4cae-f717-7f70b0c34f76"
      },
      "execution_count": null,
      "outputs": [
        {
          "output_type": "execute_result",
          "data": {
            "text/plain": [
              "'44444'"
            ],
            "application/vnd.google.colaboratory.intrinsic+json": {
              "type": "string"
            }
          },
          "metadata": {},
          "execution_count": 34
        }
      ]
    },
    {
      "cell_type": "code",
      "source": [
        "type(yournumber)"
      ],
      "metadata": {
        "colab": {
          "base_uri": "https://localhost:8080/"
        },
        "id": "664rKEalISSY",
        "outputId": "5314bd92-1d93-4d40-d399-b18d7d3b8930"
      },
      "execution_count": null,
      "outputs": [
        {
          "output_type": "execute_result",
          "data": {
            "text/plain": [
              "str"
            ]
          },
          "metadata": {},
          "execution_count": 35
        }
      ]
    },
    {
      "cell_type": "code",
      "source": [
        "yournumber = int(yournumber) # changing the type of the value to integer\n",
        "type(yournumber)"
      ],
      "metadata": {
        "colab": {
          "base_uri": "https://localhost:8080/"
        },
        "id": "u_ocEyoAIVC4",
        "outputId": "cae55304-aabb-4b25-bf49-c0c051815f76"
      },
      "execution_count": null,
      "outputs": [
        {
          "output_type": "execute_result",
          "data": {
            "text/plain": [
              "int"
            ]
          },
          "metadata": {},
          "execution_count": 36
        }
      ]
    },
    {
      "cell_type": "markdown",
      "source": [
        "Getting output:"
      ],
      "metadata": {
        "id": "Z9Kzd8ZW7Bri"
      }
    },
    {
      "cell_type": "code",
      "source": [
        "# print() 함수 배우기\n",
        "print(\"대한민국\")\n",
        "\n",
        "a2 = \"화이팅!\"  # a1: variable(변수)\n",
        "print(a2)\n",
        "print(a2*10)\n",
        "print(\"화이팅 10번 합시다: \", a2*10)\n",
        "a2"
      ],
      "metadata": {
        "id": "aQXDo7u-4-18",
        "outputId": "d02c1b36-7980-4293-8168-c3d350b08205",
        "colab": {
          "base_uri": "https://localhost:8080/",
          "height": 105
        }
      },
      "execution_count": null,
      "outputs": [
        {
          "output_type": "stream",
          "name": "stdout",
          "text": [
            "대한민국\n",
            "화이팅!\n",
            "화이팅!화이팅!화이팅!화이팅!화이팅!화이팅!화이팅!화이팅!화이팅!화이팅!\n",
            "화이팅 10번 합시다:  화이팅!화이팅!화이팅!화이팅!화이팅!화이팅!화이팅!화이팅!화이팅!화이팅!\n"
          ]
        },
        {
          "output_type": "execute_result",
          "data": {
            "text/plain": [
              "'화이팅!'"
            ],
            "application/vnd.google.colaboratory.intrinsic+json": {
              "type": "string"
            }
          },
          "metadata": {},
          "execution_count": 37
        }
      ]
    },
    {
      "cell_type": "code",
      "source": [
        "print(a2)\n",
        "print(\"=\"*30)\n",
        "a1=random.randint(1,10)\n",
        "print(\"Random integer between 1 and 10:\", a1)"
      ],
      "metadata": {
        "colab": {
          "base_uri": "https://localhost:8080/"
        },
        "id": "0jdQu65F2ZWw",
        "outputId": "3a5d1c38-1e5a-4df4-8b8a-e7d3b08ce48b"
      },
      "execution_count": null,
      "outputs": [
        {
          "output_type": "stream",
          "name": "stdout",
          "text": [
            "화이팅!\n",
            "==============================\n",
            "Random integer between 1 and 10: 7\n"
          ]
        }
      ]
    },
    {
      "cell_type": "markdown",
      "source": [
        "☺️DIY: \n",
        "**Q: John and Mary have been together for many days. Ask Mary how many days it has been since she met John. Then you tell Mary how many hours it has been since she met John.**\n",
        "\n",
        "1. Set the variable 'day' to 24\n",
        "2. Set the variable 'num_day' for the input from the user. Get a number (number of days) from the user using input() function\n",
        "2. Calculate days to hours: set the variable 'hours' to the final result."
      ],
      "metadata": {
        "id": "cvkWAvetFtSP"
      }
    },
    {
      "cell_type": "code",
      "source": [
        "day = \n",
        "num_day = \n",
        "hours = \n",
        "print(\"The total hours passed since Mary met John are: \", hours, \"hours.\")"
      ],
      "metadata": {
        "id": "Fdezo9WD1zju",
        "outputId": "174b66de-637f-420b-f218-3dbcf86e8f5b",
        "colab": {
          "base_uri": "https://localhost:8080/"
        }
      },
      "execution_count": null,
      "outputs": [
        {
          "output_type": "stream",
          "name": "stdout",
          "text": [
            "How many days? 23\n",
            "The total hours passed since Mary met John are:  552 hours.\n"
          ]
        }
      ]
    },
    {
      "cell_type": "markdown",
      "source": [
        "#[2] String manipulation: strip() and .lower().\n",
        "\n"
      ],
      "metadata": {
        "id": "zzkVAfU61HDk"
      }
    },
    {
      "cell_type": "markdown",
      "source": [
        "### **data.strip()**\n",
        "\n",
        "+ In Python, strip() is a built-in string method that returns a copy of the string with leading and trailing characters removed. \n",
        "+ By default, strip() removes whitespace characters such as spaces, tabs, and newlines from the beginning and end of the string."
      ],
      "metadata": {
        "id": "sSi_PvE5LTeC"
      }
    },
    {
      "cell_type": "code",
      "source": [
        "w1 = \" Mary is friendly. \"\n",
        "w1"
      ],
      "metadata": {
        "colab": {
          "base_uri": "https://localhost:8080/",
          "height": 35
        },
        "id": "IUtU-qG81XIt",
        "outputId": "e220311b-615a-4482-fcf3-989e2bcf0a26"
      },
      "execution_count": null,
      "outputs": [
        {
          "output_type": "execute_result",
          "data": {
            "text/plain": [
              "' Mary is friendly. '"
            ],
            "application/vnd.google.colaboratory.intrinsic+json": {
              "type": "string"
            }
          },
          "metadata": {},
          "execution_count": 46
        }
      ]
    },
    {
      "cell_type": "code",
      "source": [
        "w1.strip()"
      ],
      "metadata": {
        "colab": {
          "base_uri": "https://localhost:8080/",
          "height": 35
        },
        "id": "ZAhdPbqVKr6e",
        "outputId": "cd233fa9-fd66-4f89-da29-02e5f8e8ddf7"
      },
      "execution_count": null,
      "outputs": [
        {
          "output_type": "execute_result",
          "data": {
            "text/plain": [
              "'Mary is friendly.'"
            ],
            "application/vnd.google.colaboratory.intrinsic+json": {
              "type": "string"
            }
          },
          "metadata": {},
          "execution_count": 47
        }
      ]
    },
    {
      "cell_type": "markdown",
      "source": [
        "### **data.split()**"
      ],
      "metadata": {
        "id": "JGPdtmu8MFgv"
      }
    },
    {
      "cell_type": "code",
      "source": [
        "w1 = \"Mary is friendly.\"\n",
        "w1.split()"
      ],
      "metadata": {
        "colab": {
          "base_uri": "https://localhost:8080/"
        },
        "id": "xbF1sJB9MIpw",
        "outputId": "b9175d5c-0146-44ee-a8dc-9e11d71cdbd9"
      },
      "execution_count": null,
      "outputs": [
        {
          "output_type": "execute_result",
          "data": {
            "text/plain": [
              "['Mary', 'is', 'friendly.']"
            ]
          },
          "metadata": {},
          "execution_count": 48
        }
      ]
    },
    {
      "cell_type": "code",
      "source": [
        "w2 = \"out-of-date\"\n",
        "w2.split('-')"
      ],
      "metadata": {
        "colab": {
          "base_uri": "https://localhost:8080/"
        },
        "id": "IudKgTjkMVQP",
        "outputId": "fffcbccf-0217-466c-bcc2-d35131bd60c7"
      },
      "execution_count": null,
      "outputs": [
        {
          "output_type": "execute_result",
          "data": {
            "text/plain": [
              "['out', 'of', 'date']"
            ]
          },
          "metadata": {},
          "execution_count": 49
        }
      ]
    },
    {
      "cell_type": "code",
      "source": [
        "w1 = \"Mary\"\n",
        "w2 = \"is\"\n",
        "w3 = \"friendly\""
      ],
      "metadata": {
        "id": "tGBOKKKtLvj7"
      },
      "execution_count": null,
      "outputs": []
    },
    {
      "cell_type": "code",
      "source": [
        "wordlist = [w1, w2, w3]\n",
        "wordlist"
      ],
      "metadata": {
        "colab": {
          "base_uri": "https://localhost:8080/"
        },
        "id": "c11AXGr0V_a4",
        "outputId": "f5a0b40c-c834-4888-c9fa-b243ac79243e"
      },
      "execution_count": null,
      "outputs": [
        {
          "output_type": "execute_result",
          "data": {
            "text/plain": [
              "['Mary', 'is', 'friendly']"
            ]
          },
          "metadata": {},
          "execution_count": 51
        }
      ]
    },
    {
      "cell_type": "markdown",
      "source": [
        "### **' '.join()**"
      ],
      "metadata": {
        "id": "Mb-LFWWPWn08"
      }
    },
    {
      "cell_type": "code",
      "source": [
        "' '.join(wordlist)"
      ],
      "metadata": {
        "colab": {
          "base_uri": "https://localhost:8080/",
          "height": 35
        },
        "id": "tZA7DsPPWGmA",
        "outputId": "90221f13-9bd2-40de-da6a-de32c074fb58"
      },
      "execution_count": null,
      "outputs": [
        {
          "output_type": "execute_result",
          "data": {
            "text/plain": [
              "'Mary is friendly'"
            ],
            "application/vnd.google.colaboratory.intrinsic+json": {
              "type": "string"
            }
          },
          "metadata": {},
          "execution_count": 52
        }
      ]
    },
    {
      "cell_type": "code",
      "source": [
        "'-'.join(wordlist)"
      ],
      "metadata": {
        "colab": {
          "base_uri": "https://localhost:8080/",
          "height": 35
        },
        "id": "EjLtWSL5WdYy",
        "outputId": "4ce99690-92b2-4ac7-b8c2-ee45569c21fe"
      },
      "execution_count": null,
      "outputs": [
        {
          "output_type": "execute_result",
          "data": {
            "text/plain": [
              "'Mary-is-friendly'"
            ],
            "application/vnd.google.colaboratory.intrinsic+json": {
              "type": "string"
            }
          },
          "metadata": {},
          "execution_count": 53
        }
      ]
    },
    {
      "cell_type": "markdown",
      "source": [
        "### **data.lower(), data.upper()**"
      ],
      "metadata": {
        "id": "PgCIMbbcL29X"
      }
    },
    {
      "cell_type": "code",
      "source": [
        "w1.lower()"
      ],
      "metadata": {
        "colab": {
          "base_uri": "https://localhost:8080/",
          "height": 35
        },
        "id": "JGqTVM22MuH0",
        "outputId": "118e59a5-ab1a-4271-98b6-5e38fd509488"
      },
      "execution_count": null,
      "outputs": [
        {
          "output_type": "execute_result",
          "data": {
            "text/plain": [
              "'mary'"
            ],
            "application/vnd.google.colaboratory.intrinsic+json": {
              "type": "string"
            }
          },
          "metadata": {},
          "execution_count": 54
        }
      ]
    },
    {
      "cell_type": "code",
      "source": [
        "w1.upper()"
      ],
      "metadata": {
        "colab": {
          "base_uri": "https://localhost:8080/",
          "height": 35
        },
        "id": "fP2lBss3Myhq",
        "outputId": "7b93479c-d868-4f9d-d120-456ed03398a4"
      },
      "execution_count": null,
      "outputs": [
        {
          "output_type": "execute_result",
          "data": {
            "text/plain": [
              "'MARY'"
            ],
            "application/vnd.google.colaboratory.intrinsic+json": {
              "type": "string"
            }
          },
          "metadata": {},
          "execution_count": 55
        }
      ]
    },
    {
      "cell_type": "markdown",
      "source": [
        "string index"
      ],
      "metadata": {
        "id": "yZJk2NtCM_oz"
      }
    },
    {
      "cell_type": "code",
      "source": [
        "len(w1) #number of string"
      ],
      "metadata": {
        "colab": {
          "base_uri": "https://localhost:8080/"
        },
        "id": "HmuiXLZSNGNa",
        "outputId": "a04863f4-d425-4cca-ae44-b0b8506c2910"
      },
      "execution_count": null,
      "outputs": [
        {
          "output_type": "execute_result",
          "data": {
            "text/plain": [
              "4"
            ]
          },
          "metadata": {},
          "execution_count": 56
        }
      ]
    },
    {
      "cell_type": "code",
      "source": [
        "w1[0] #1st string"
      ],
      "metadata": {
        "colab": {
          "base_uri": "https://localhost:8080/",
          "height": 35
        },
        "id": "xiyozLYxM6xk",
        "outputId": "b87c69f9-889e-4473-b142-33ef06d35790"
      },
      "execution_count": null,
      "outputs": [
        {
          "output_type": "execute_result",
          "data": {
            "text/plain": [
              "'M'"
            ],
            "application/vnd.google.colaboratory.intrinsic+json": {
              "type": "string"
            }
          },
          "metadata": {},
          "execution_count": 57
        }
      ]
    },
    {
      "cell_type": "code",
      "source": [
        "w1[-1]"
      ],
      "metadata": {
        "colab": {
          "base_uri": "https://localhost:8080/",
          "height": 35
        },
        "id": "AY_Ii7FhNeof",
        "outputId": "4cda0399-33ee-42f3-bf12-9f6aa11cd329"
      },
      "execution_count": null,
      "outputs": [
        {
          "output_type": "execute_result",
          "data": {
            "text/plain": [
              "'y'"
            ],
            "application/vnd.google.colaboratory.intrinsic+json": {
              "type": "string"
            }
          },
          "metadata": {},
          "execution_count": 58
        }
      ]
    },
    {
      "cell_type": "code",
      "source": [
        "w1[0:]"
      ],
      "metadata": {
        "id": "vhfF3iXwNijx"
      },
      "execution_count": null,
      "outputs": []
    },
    {
      "cell_type": "code",
      "source": [
        "w1[:]"
      ],
      "metadata": {
        "id": "pW4m0FoyNlf4"
      },
      "execution_count": null,
      "outputs": []
    },
    {
      "cell_type": "code",
      "source": [
        "w1[1:3]"
      ],
      "metadata": {
        "id": "tgp9ozDdNpwd"
      },
      "execution_count": null,
      "outputs": []
    },
    {
      "cell_type": "code",
      "source": [
        "w = \"mary\"\n",
        "w[0:-1]"
      ],
      "metadata": {
        "id": "0Su3TuHfPxwh"
      },
      "execution_count": null,
      "outputs": []
    },
    {
      "cell_type": "markdown",
      "source": [
        "☺️ DIY: Convert a statement to a yes-no question (e.g., Mary is smart. Tom is smiling. Jane is late.)"
      ],
      "metadata": {
        "id": "lGVkVdCLNMz0"
      }
    },
    {
      "cell_type": "code",
      "source": [
        "w1 = \"Mary\"; w2 = \"is\"; w3 = \"friendly.\""
      ],
      "metadata": {
        "id": "nz1VNUviNXaJ"
      },
      "execution_count": null,
      "outputs": []
    }
  ]
}