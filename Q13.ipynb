{
  "nbformat": 4,
  "nbformat_minor": 0,
  "metadata": {
    "colab": {
      "provenance": [],
      "include_colab_link": true
    },
    "kernelspec": {
      "name": "python3",
      "display_name": "Python 3"
    },
    "language_info": {
      "name": "python"
    }
  },
  "cells": [
    {
      "cell_type": "markdown",
      "metadata": {
        "id": "view-in-github",
        "colab_type": "text"
      },
      "source": [
        "<a href=\"https://colab.research.google.com/github/ssommmii03/DL23/blob/main/Q13.ipynb\" target=\"_parent\"><img src=\"https://colab.research.google.com/assets/colab-badge.svg\" alt=\"Open In Colab\"/></a>"
      ]
    },
    {
      "cell_type": "markdown",
      "source": [
        "Q.13 Create a list called numbers. Using the random.randint() function, add five random integers to it. Then, print the list."
      ],
      "metadata": {
        "id": "q-VdlZXWp_4s"
      }
    },
    {
      "cell_type": "code",
      "execution_count": 6,
      "metadata": {
        "id": "05AS0jPhp8As",
        "outputId": "45601c4b-7561-45f1-cb00-ee4499a08756",
        "colab": {
          "base_uri": "https://localhost:8080/"
        }
      },
      "outputs": [
        {
          "output_type": "stream",
          "name": "stdout",
          "text": [
            "[4, 0, 7, 3, 3]\n"
          ]
        }
      ],
      "source": [
        "number =[]\n",
        "\n",
        "import random\n",
        "\n",
        "for i in range(1,6):\n",
        "   n = random.randint(0,10)\n",
        "   number.append(n)\n",
        "   \n",
        "print(number)"
      ]
    }
  ]
}