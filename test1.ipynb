{
  "nbformat": 4,
  "nbformat_minor": 0,
  "metadata": {
    "colab": {
      "provenance": [],
      "authorship_tag": "ABX9TyMsT78OBtcbNl2YCTtrsykz",
      "include_colab_link": true
    },
    "kernelspec": {
      "name": "python3",
      "display_name": "Python 3"
    },
    "language_info": {
      "name": "python"
    }
  },
  "cells": [
    {
      "cell_type": "markdown",
      "metadata": {
        "id": "view-in-github",
        "colab_type": "text"
      },
      "source": [
        "<a href=\"https://colab.research.google.com/github/ssommmii03/DL23/blob/main/test1.ipynb\" target=\"_parent\"><img src=\"https://colab.research.google.com/assets/colab-badge.svg\" alt=\"Open In Colab\"/></a>"
      ]
    },
    {
      "cell_type": "markdown",
      "source": [
        "1. Tokenize  by words or sentences"
      ],
      "metadata": {
        "id": "wMSvhCWBaDY0"
      }
    },
    {
      "cell_type": "code",
      "execution_count": 1,
      "metadata": {
        "id": "RXxArMBOZ5It"
      },
      "outputs": [],
      "source": [
        "example_string = \"My name is Sarah. I live in a big city. I like to read books and play with my cat.\""
      ]
    },
    {
      "cell_type": "code",
      "source": [
        "set1 = example_string.split()\n",
        "print(set1)"
      ],
      "metadata": {
        "colab": {
          "base_uri": "https://localhost:8080/"
        },
        "id": "dmE1jz4WaMs9",
        "outputId": "643abe5c-561c-404f-e53f-a0094465de16"
      },
      "execution_count": 2,
      "outputs": [
        {
          "output_type": "stream",
          "name": "stdout",
          "text": [
            "['My', 'name', 'is', 'Sarah.', 'I', 'live', 'in', 'a', 'big', 'city.', 'I', 'like', 'to', 'read', 'books', 'and', 'play', 'with', 'my', 'cat.']\n"
          ]
        }
      ]
    },
    {
      "cell_type": "code",
      "source": [
        "set2 = example_string.split(\".\")\n",
        "set2"
      ],
      "metadata": {
        "colab": {
          "base_uri": "https://localhost:8080/"
        },
        "id": "vYTYWdHoaO7D",
        "outputId": "6cd117c2-2579-44b4-eb2b-47a990ebd516"
      },
      "execution_count": 3,
      "outputs": [
        {
          "output_type": "execute_result",
          "data": {
            "text/plain": [
              "['My name is Sarah',\n",
              " ' I live in a big city',\n",
              " ' I like to read books and play with my cat',\n",
              " '']"
            ]
          },
          "metadata": {},
          "execution_count": 3
        }
      ]
    },
    {
      "cell_type": "code",
      "source": [
        "# Strip()\n",
        "\n",
        "set3 = [s.strip() for s in set2]\n",
        "set3"
      ],
      "metadata": {
        "colab": {
          "base_uri": "https://localhost:8080/"
        },
        "id": "UybmFj6_aRJ7",
        "outputId": "843160f5-fda6-4237-9df4-d1aab91f88a0"
      },
      "execution_count": 4,
      "outputs": [
        {
          "output_type": "execute_result",
          "data": {
            "text/plain": [
              "['My name is Sarah',\n",
              " 'I live in a big city',\n",
              " 'I like to read books and play with my cat',\n",
              " '']"
            ]
          },
          "metadata": {},
          "execution_count": 4
        }
      ]
    },
    {
      "cell_type": "code",
      "source": [
        "# Remove empty string in a list\n",
        "\n",
        "set4 = [x for x in set3 if x != \"\"]\n",
        "set4"
      ],
      "metadata": {
        "colab": {
          "base_uri": "https://localhost:8080/"
        },
        "id": "JdFh1juYaWJs",
        "outputId": "9eebe126-79f6-4315-cced-9d5a661f5d1a"
      },
      "execution_count": 5,
      "outputs": [
        {
          "output_type": "execute_result",
          "data": {
            "text/plain": [
              "['My name is Sarah',\n",
              " 'I live in a big city',\n",
              " 'I like to read books and play with my cat']"
            ]
          },
          "metadata": {},
          "execution_count": 5
        }
      ]
    },
    {
      "cell_type": "markdown",
      "source": [
        "Using {nltk} library"
      ],
      "metadata": {
        "id": "3R7EefC0aXfz"
      }
    },
    {
      "cell_type": "code",
      "source": [
        "from nltk.tokenize import sent_tokenize, word_tokenize"
      ],
      "metadata": {
        "id": "VhX2jxR-alSr"
      },
      "execution_count": 6,
      "outputs": []
    },
    {
      "cell_type": "code",
      "source": [
        "import nltk\n",
        "nltk.download('punkt')"
      ],
      "metadata": {
        "colab": {
          "base_uri": "https://localhost:8080/"
        },
        "id": "kgJPAbagbCYc",
        "outputId": "b5090fc8-3d91-4d15-e118-a3e3b1796f58"
      },
      "execution_count": 8,
      "outputs": [
        {
          "output_type": "stream",
          "name": "stderr",
          "text": [
            "[nltk_data] Downloading package punkt to /root/nltk_data...\n",
            "[nltk_data]   Unzipping tokenizers/punkt.zip.\n"
          ]
        },
        {
          "output_type": "execute_result",
          "data": {
            "text/plain": [
              "True"
            ]
          },
          "metadata": {},
          "execution_count": 8
        }
      ]
    },
    {
      "cell_type": "code",
      "source": [
        "slist = sent_tokenize(example_string)\n",
        "slist[0]"
      ],
      "metadata": {
        "colab": {
          "base_uri": "https://localhost:8080/",
          "height": 35
        },
        "id": "k1wwB-AwaoBE",
        "outputId": "8063514b-518e-4ed3-fc05-04a2a337db92"
      },
      "execution_count": 9,
      "outputs": [
        {
          "output_type": "execute_result",
          "data": {
            "text/plain": [
              "'My name is Sarah.'"
            ],
            "application/vnd.google.colaboratory.intrinsic+json": {
              "type": "string"
            }
          },
          "metadata": {},
          "execution_count": 9
        }
      ]
    },
    {
      "cell_type": "code",
      "source": [
        "mytext=input(\"Paste text: \")\n",
        "slist1 = sent_tokenize(mytext)\n",
        "slist1[50]"
      ],
      "metadata": {
        "colab": {
          "base_uri": "https://localhost:8080/",
          "height": 74
        },
        "id": "i2NkOmYRbLis",
        "outputId": "ca40f771-5e40-4f88-9f2f-32dd27e65d9e"
      },
      "execution_count": 10,
      "outputs": [
        {
          "name": "stdout",
          "output_type": "stream",
          "text": [
            "Paste text: DNA trail Everybody loves a good story, and when it's finished, this may be the greatest one ever told. It begins in Africa with a group of people. There are perhaps just a few hundred, surviving by hunting animals and gathering fruits, vegetables, and nuts. It ends about 200,000 years later, with their seven billion descendants spread across the Earth.  In between is an exciting tale of survival, movement, isolation, and conquest, most of it occurring before recorded history. Who were those first modern people in Africa? What routes did they take when they left their home continent to expand into Europe and Asia? When and how did humans reach the Americas? For decades, the only proof was found in a small number of scattered bones and artifacts that our ancestors had left behind. In the past 20 years, however, DNA technologies have allowed scientists to find a record of ancient human migrations in the DNA of living people.  Tracing Ancestry in DNA.  \"Every drop of human blood contains a history book written in the language of our genes,\" says population geneticist Spencer Wells. The human genetic code, or genome, is 99.9 percent identical throughout the world. The bulk of our DNA is the same. However, the remainder is responsible for our individual differences -- in eye color or disease risk, for example. On very rare occasions, a small change -- called a mutation -- can occur. This can then be passed down to all of that person's descendants. Generations later, finding that same mutation in two people's DNA indicates that they share the same ancestor. By comparing mutations in many different populations, scientists can trace their ancestral connections.  These ancient mutations are easiest to tract in two places. One is in DNA that is passed from mother to child (called mitochondrial DNA, or mtDNA). The other is in DNA that travels from father to son (known as the Y chromosome, the part of DNA that determines a child will be a boy). By comparing the mtDNA and Y chromosomes of people from various populations, geneticists can get a rough idea of where and when those groups separated in the great migrations around the planet.  Out of Africa  In the mid-1980s, a study compared mtDNA from people around the world. It found that people of African descent had twice as many genetic differences from each other than did others. Because mutations seem to occur at a steady rate over time, scientists concluded that modern humans must have lived in Africa at least twice as long as anywhere else. They now calculate that all living humans maternally descend from a single woman who lived roughly 150,000 years ago in Africa, a \"mitochondrial Eve.\" If geneticists are right, all of humanity is linked to Eve through an unbroken chain of mothers. This Eve was soon joined by \"Y-chromosome Adam,\" the possible genetic father of us all, also from Africa. DNA studies have confirmed that all the people on Earth can trace their ancestry to ancient Africans.  What seems certain is that at a remarkably recent date -- probably between 50,000 and 70,000 years ago -- one small group of people, the ancestors of modern humans outside of Africa, left Africa for western Asia. They either migrated around the wider northern end of the Red Sea, or across its narrow southern opening.  Once in Asia, genetic evidence suggests, the population split. One group stayed temporarily in the Middle East, while the other began a journey that would last tens of thousands of years. Moving a little farther with each new generation, they followed the coast around the Arabian Peninsula, India, and Southeast Asia, all the way to Australia. \"The movement was probably imperceptible,\" says Spencer Wells. \"It was less of a journey and probably more like walking a little farther down the beach to get away from the crowd.\"  Archeological evidence of this 13,000-kilometer migration from Africa to Australia has almost completely vanished. However, genetic traces of the group that made the trip do exist. They have been found in the DNA of indigenous peoples in Malaysia, in Papua New Guinea, and in the DNA of nearly all Australian aborigines. Modern discoveries of 45,000-year-old bodies in Australia, buried at a site called Lake Mungo, provide physical evidence for the theories as well.  People in the rest of Asia and Europe share different but equally ancient mtDNA and Y-chromosome mutations. These mutations show that most are descendants of the group that stayed in the Middle East for thousands of years before moving on. Perhaps about 40,000 years ago, modern humans first advanced into Europe.  Peopling the Americas  About the same time as modern humans pushed into Europe, some of the same group that had paused in the Middle East spread east into Central Asia. They eventually reached as fas as Siberia, the Korean Peninsula, and Japan. Here begins one of the last chapters in the human story -- the peopling of the Americas. Most scientists believe that today's Native Americans descend from ancient Asians who crossed from Siberia to Alaske in the last ice age. At that time, low sea levels would have exposed a land bridge between the continents. Perhaps they -- only a few hundred people -- were travelling along the coast, moving from one piece of land to the next, between a freezing ocean and a wall of ice. \"A coastal route would have been the easiest way in,\" says Wells. \"But it still would have been a hell of a trip.\" Once across, they followed the immense herds of animals into the mainland. They spread to the tip of South America in as little as a thousand years.  Genetic researchers can only tell us the basic outlines of a story of human migration that is more complex than any ever written. Many details of the movements of our ancestors and their countless individual lives can only be imagined. But thanks to genetic researchers -- themselves descendants of mtDNA Eve and Y-chromosome Adam -- we have begun to unlock important secrets about the origins and movements of our ancient ancestors.\n"
          ]
        },
        {
          "output_type": "execute_result",
          "data": {
            "text/plain": [
              "'\"A coastal route would have been the easiest way in,\" says Wells.'"
            ],
            "application/vnd.google.colaboratory.intrinsic+json": {
              "type": "string"
            }
          },
          "metadata": {},
          "execution_count": 10
        }
      ]
    },
    {
      "cell_type": "code",
      "source": [
        "mywords = word_tokenize(mytext)\n",
        "print(len(mywords))\n",
        "mywords[100]"
      ],
      "metadata": {
        "colab": {
          "base_uri": "https://localhost:8080/",
          "height": 54
        },
        "id": "8gVi_5hvbTjt",
        "outputId": "ccc6e0f6-7086-4187-d6c5-dae9ab7d6a23"
      },
      "execution_count": 11,
      "outputs": [
        {
          "output_type": "stream",
          "name": "stdout",
          "text": [
            "1153\n"
          ]
        },
        {
          "output_type": "execute_result",
          "data": {
            "text/plain": [
              "'people'"
            ],
            "application/vnd.google.colaboratory.intrinsic+json": {
              "type": "string"
            }
          },
          "metadata": {},
          "execution_count": 11
        }
      ]
    },
    {
      "cell_type": "markdown",
      "source": [
        "2. Filtering stopwords"
      ],
      "metadata": {
        "id": "EWeWgdGDbWOa"
      }
    },
    {
      "cell_type": "code",
      "source": [
        "nltk.download(\"stopwords\")\n",
        "from nltk.corpus import stopwords\n",
        "from nltk.tokenize import word_tokenize\n",
        "\n",
        "sample = \"Sir, I protest. I am not a merry man!\"\n",
        "s1 = word_tokenize(sample); s1"
      ],
      "metadata": {
        "colab": {
          "base_uri": "https://localhost:8080/"
        },
        "id": "FXzwwx86beQP",
        "outputId": "fbb103f5-cbc4-4dda-f00e-29c54eb20913"
      },
      "execution_count": 12,
      "outputs": [
        {
          "output_type": "stream",
          "name": "stderr",
          "text": [
            "[nltk_data] Downloading package stopwords to /root/nltk_data...\n",
            "[nltk_data]   Unzipping corpora/stopwords.zip.\n"
          ]
        },
        {
          "output_type": "execute_result",
          "data": {
            "text/plain": [
              "['Sir', ',', 'I', 'protest', '.', 'I', 'am', 'not', 'a', 'merry', 'man', '!']"
            ]
          },
          "metadata": {},
          "execution_count": 12
        }
      ]
    },
    {
      "cell_type": "code",
      "source": [
        "stop_words = set(stopwords.words(\"english\"))"
      ],
      "metadata": {
        "id": "fK94Ctegbjc8"
      },
      "execution_count": 13,
      "outputs": []
    },
    {
      "cell_type": "code",
      "source": [
        "# string.casefold(): to all lower case so that we can compare strings\n",
        "\n",
        "w1 = \"Mary\"\n",
        "w2 = \"susan\"\n",
        "w1.casefold()"
      ],
      "metadata": {
        "colab": {
          "base_uri": "https://localhost:8080/",
          "height": 35
        },
        "id": "J-h-ScP2b6qu",
        "outputId": "74ce3f28-c14f-4544-a2a0-9c7b78f06a57"
      },
      "execution_count": 14,
      "outputs": [
        {
          "output_type": "execute_result",
          "data": {
            "text/plain": [
              "'mary'"
            ],
            "application/vnd.google.colaboratory.intrinsic+json": {
              "type": "string"
            }
          },
          "metadata": {},
          "execution_count": 14
        }
      ]
    },
    {
      "cell_type": "code",
      "source": [
        "# Remove punctuations and stopwords\n",
        "\n",
        "filtered_list = []\n",
        "\n",
        "for word in s1:\n",
        "   if (word.casefold() not in stop_words) & (len(word)>1):\n",
        "        filtered_list.append(word)\n",
        "\n",
        "filtered_list"
      ],
      "metadata": {
        "colab": {
          "base_uri": "https://localhost:8080/"
        },
        "id": "2UtokhA4b-vM",
        "outputId": "5feac4f6-6bcc-4a63-e373-f10f3c6479bf"
      },
      "execution_count": 15,
      "outputs": [
        {
          "output_type": "execute_result",
          "data": {
            "text/plain": [
              "['Sir', 'protest', 'merry', 'man']"
            ]
          },
          "metadata": {},
          "execution_count": 15
        }
      ]
    },
    {
      "cell_type": "markdown",
      "source": [
        "Wordcloud"
      ],
      "metadata": {
        "id": "X2mc2aBvcT04"
      }
    },
    {
      "cell_type": "code",
      "source": [
        "text1 = \"\"\"\n",
        "Once upon a time, there was a kind and adventurous boy named Jack. Jack loved exploring and going on exciting adventures. One day, Jack decided to go on a hike in the nearby forest. As he was walking, he heard a soft meowing sound.\n",
        "\n",
        "Jack followed the sound and found a small, black kitten. The kitten was scared and alone. Jack picked up the kitten and carried her in his arms. He decided to take her home and give her a warm place to sleep and plenty of food to eat.\n",
        "\n",
        "Jack named the kitten Luna, and she quickly became his best friend. They did everything together, playing in the park, exploring the woods, and snuggling up together to watch movies at night.\n",
        "\n",
        "One day, Jack and Luna went on a hike and got lost. They wandered deeper and deeper into the woods, but they couldn't find their way back. Jack started to worry, but Luna stayed by his side, meowing softly to comfort him.\n",
        "\n",
        "As they continued to wander, they stumbled upon a clearing where an old man was sitting by a campfire. The old man welcomed them and gave them food and water. Jack explained that they were lost, and the old man offered to help them find their way home.\n",
        "\n",
        "The old man took them on a journey through the woods, showing them which paths to take and which to avoid. Finally, they arrived back at Jack's house, safe and sound.\n",
        "\n",
        "From that day forward, Jack and Luna never went on another adventure without the old man's guidance. They were grateful to have each other and to have made a new friend who could help them when they needed it most.\n",
        "\"\"\""
      ],
      "metadata": {
        "id": "giPa50ZxcDc0"
      },
      "execution_count": 16,
      "outputs": []
    },
    {
      "cell_type": "code",
      "source": [
        "w1 = word_tokenize(text1)\n",
        "stop_words = set(stopwords.words('english'))\n",
        "\n",
        "w2 = [w for w in w1 if w.lower() not in stop_words and len(w) > 2]\n",
        "w2"
      ],
      "metadata": {
        "colab": {
          "base_uri": "https://localhost:8080/"
        },
        "id": "XDf_6ehscNEu",
        "outputId": "96e58752-36d4-4e89-ddc2-4725105124da"
      },
      "execution_count": 17,
      "outputs": [
        {
          "output_type": "execute_result",
          "data": {
            "text/plain": [
              "['upon',\n",
              " 'time',\n",
              " 'kind',\n",
              " 'adventurous',\n",
              " 'boy',\n",
              " 'named',\n",
              " 'Jack',\n",
              " 'Jack',\n",
              " 'loved',\n",
              " 'exploring',\n",
              " 'going',\n",
              " 'exciting',\n",
              " 'adventures',\n",
              " 'One',\n",
              " 'day',\n",
              " 'Jack',\n",
              " 'decided',\n",
              " 'hike',\n",
              " 'nearby',\n",
              " 'forest',\n",
              " 'walking',\n",
              " 'heard',\n",
              " 'soft',\n",
              " 'meowing',\n",
              " 'sound',\n",
              " 'Jack',\n",
              " 'followed',\n",
              " 'sound',\n",
              " 'found',\n",
              " 'small',\n",
              " 'black',\n",
              " 'kitten',\n",
              " 'kitten',\n",
              " 'scared',\n",
              " 'alone',\n",
              " 'Jack',\n",
              " 'picked',\n",
              " 'kitten',\n",
              " 'carried',\n",
              " 'arms',\n",
              " 'decided',\n",
              " 'take',\n",
              " 'home',\n",
              " 'give',\n",
              " 'warm',\n",
              " 'place',\n",
              " 'sleep',\n",
              " 'plenty',\n",
              " 'food',\n",
              " 'eat',\n",
              " 'Jack',\n",
              " 'named',\n",
              " 'kitten',\n",
              " 'Luna',\n",
              " 'quickly',\n",
              " 'became',\n",
              " 'best',\n",
              " 'friend',\n",
              " 'everything',\n",
              " 'together',\n",
              " 'playing',\n",
              " 'park',\n",
              " 'exploring',\n",
              " 'woods',\n",
              " 'snuggling',\n",
              " 'together',\n",
              " 'watch',\n",
              " 'movies',\n",
              " 'night',\n",
              " 'One',\n",
              " 'day',\n",
              " 'Jack',\n",
              " 'Luna',\n",
              " 'went',\n",
              " 'hike',\n",
              " 'got',\n",
              " 'lost',\n",
              " 'wandered',\n",
              " 'deeper',\n",
              " 'deeper',\n",
              " 'woods',\n",
              " 'could',\n",
              " \"n't\",\n",
              " 'find',\n",
              " 'way',\n",
              " 'back',\n",
              " 'Jack',\n",
              " 'started',\n",
              " 'worry',\n",
              " 'Luna',\n",
              " 'stayed',\n",
              " 'side',\n",
              " 'meowing',\n",
              " 'softly',\n",
              " 'comfort',\n",
              " 'continued',\n",
              " 'wander',\n",
              " 'stumbled',\n",
              " 'upon',\n",
              " 'clearing',\n",
              " 'old',\n",
              " 'man',\n",
              " 'sitting',\n",
              " 'campfire',\n",
              " 'old',\n",
              " 'man',\n",
              " 'welcomed',\n",
              " 'gave',\n",
              " 'food',\n",
              " 'water',\n",
              " 'Jack',\n",
              " 'explained',\n",
              " 'lost',\n",
              " 'old',\n",
              " 'man',\n",
              " 'offered',\n",
              " 'help',\n",
              " 'find',\n",
              " 'way',\n",
              " 'home',\n",
              " 'old',\n",
              " 'man',\n",
              " 'took',\n",
              " 'journey',\n",
              " 'woods',\n",
              " 'showing',\n",
              " 'paths',\n",
              " 'take',\n",
              " 'avoid',\n",
              " 'Finally',\n",
              " 'arrived',\n",
              " 'back',\n",
              " 'Jack',\n",
              " 'house',\n",
              " 'safe',\n",
              " 'sound',\n",
              " 'day',\n",
              " 'forward',\n",
              " 'Jack',\n",
              " 'Luna',\n",
              " 'never',\n",
              " 'went',\n",
              " 'another',\n",
              " 'adventure',\n",
              " 'without',\n",
              " 'old',\n",
              " 'man',\n",
              " 'guidance',\n",
              " 'grateful',\n",
              " 'made',\n",
              " 'new',\n",
              " 'friend',\n",
              " 'could',\n",
              " 'help',\n",
              " 'needed']"
            ]
          },
          "metadata": {},
          "execution_count": 17
        }
      ]
    },
    {
      "cell_type": "code",
      "source": [
        "additional_stopwords = {'one', 'day', 'upon'}\n",
        "\n",
        "# Create a new set of stopwords that includes the default stopwords and the additional ones\n",
        "stop_words = set(stopwords.words('english') + list(additional_stopwords))"
      ],
      "metadata": {
        "id": "zskOmZ5acXR0"
      },
      "execution_count": 18,
      "outputs": []
    },
    {
      "cell_type": "code",
      "source": [
        "w1 = word_tokenize(text1)\n",
        "stop_words = set(stopwords.words('english') + list(additional_stopwords))\n",
        "\n",
        "w2 = [w for w in w1 if w.lower() not in stop_words and len(w) > 2]\n",
        "w2"
      ],
      "metadata": {
        "colab": {
          "base_uri": "https://localhost:8080/"
        },
        "id": "REZYHk18ceGM",
        "outputId": "cfa470f3-6b10-4bbb-9e56-0d08de678cb4"
      },
      "execution_count": 19,
      "outputs": [
        {
          "output_type": "execute_result",
          "data": {
            "text/plain": [
              "['time',\n",
              " 'kind',\n",
              " 'adventurous',\n",
              " 'boy',\n",
              " 'named',\n",
              " 'Jack',\n",
              " 'Jack',\n",
              " 'loved',\n",
              " 'exploring',\n",
              " 'going',\n",
              " 'exciting',\n",
              " 'adventures',\n",
              " 'Jack',\n",
              " 'decided',\n",
              " 'hike',\n",
              " 'nearby',\n",
              " 'forest',\n",
              " 'walking',\n",
              " 'heard',\n",
              " 'soft',\n",
              " 'meowing',\n",
              " 'sound',\n",
              " 'Jack',\n",
              " 'followed',\n",
              " 'sound',\n",
              " 'found',\n",
              " 'small',\n",
              " 'black',\n",
              " 'kitten',\n",
              " 'kitten',\n",
              " 'scared',\n",
              " 'alone',\n",
              " 'Jack',\n",
              " 'picked',\n",
              " 'kitten',\n",
              " 'carried',\n",
              " 'arms',\n",
              " 'decided',\n",
              " 'take',\n",
              " 'home',\n",
              " 'give',\n",
              " 'warm',\n",
              " 'place',\n",
              " 'sleep',\n",
              " 'plenty',\n",
              " 'food',\n",
              " 'eat',\n",
              " 'Jack',\n",
              " 'named',\n",
              " 'kitten',\n",
              " 'Luna',\n",
              " 'quickly',\n",
              " 'became',\n",
              " 'best',\n",
              " 'friend',\n",
              " 'everything',\n",
              " 'together',\n",
              " 'playing',\n",
              " 'park',\n",
              " 'exploring',\n",
              " 'woods',\n",
              " 'snuggling',\n",
              " 'together',\n",
              " 'watch',\n",
              " 'movies',\n",
              " 'night',\n",
              " 'Jack',\n",
              " 'Luna',\n",
              " 'went',\n",
              " 'hike',\n",
              " 'got',\n",
              " 'lost',\n",
              " 'wandered',\n",
              " 'deeper',\n",
              " 'deeper',\n",
              " 'woods',\n",
              " 'could',\n",
              " \"n't\",\n",
              " 'find',\n",
              " 'way',\n",
              " 'back',\n",
              " 'Jack',\n",
              " 'started',\n",
              " 'worry',\n",
              " 'Luna',\n",
              " 'stayed',\n",
              " 'side',\n",
              " 'meowing',\n",
              " 'softly',\n",
              " 'comfort',\n",
              " 'continued',\n",
              " 'wander',\n",
              " 'stumbled',\n",
              " 'clearing',\n",
              " 'old',\n",
              " 'man',\n",
              " 'sitting',\n",
              " 'campfire',\n",
              " 'old',\n",
              " 'man',\n",
              " 'welcomed',\n",
              " 'gave',\n",
              " 'food',\n",
              " 'water',\n",
              " 'Jack',\n",
              " 'explained',\n",
              " 'lost',\n",
              " 'old',\n",
              " 'man',\n",
              " 'offered',\n",
              " 'help',\n",
              " 'find',\n",
              " 'way',\n",
              " 'home',\n",
              " 'old',\n",
              " 'man',\n",
              " 'took',\n",
              " 'journey',\n",
              " 'woods',\n",
              " 'showing',\n",
              " 'paths',\n",
              " 'take',\n",
              " 'avoid',\n",
              " 'Finally',\n",
              " 'arrived',\n",
              " 'back',\n",
              " 'Jack',\n",
              " 'house',\n",
              " 'safe',\n",
              " 'sound',\n",
              " 'forward',\n",
              " 'Jack',\n",
              " 'Luna',\n",
              " 'never',\n",
              " 'went',\n",
              " 'another',\n",
              " 'adventure',\n",
              " 'without',\n",
              " 'old',\n",
              " 'man',\n",
              " 'guidance',\n",
              " 'grateful',\n",
              " 'made',\n",
              " 'new',\n",
              " 'friend',\n",
              " 'could',\n",
              " 'help',\n",
              " 'needed']"
            ]
          },
          "metadata": {},
          "execution_count": 19
        }
      ]
    },
    {
      "cell_type": "markdown",
      "source": [
        "Tagging Parts of Speech"
      ],
      "metadata": {
        "id": "XbpOz1doclCU"
      }
    },
    {
      "cell_type": "code",
      "source": [
        "from nltk.tokenize import word_tokenize\n",
        "nltk.download('averaged_perceptron_tagger')\n",
        "\n",
        "sentence = input(\"Type your sentence: \")\n",
        "mywords = word_tokenize(sentence)\n",
        "nltk.pos_tag(mywords)"
      ],
      "metadata": {
        "colab": {
          "base_uri": "https://localhost:8080/"
        },
        "id": "KA1CT2-Icn5U",
        "outputId": "9e93e293-6f1d-4806-ac30-ea8da3decaba"
      },
      "execution_count": 20,
      "outputs": [
        {
          "output_type": "stream",
          "name": "stderr",
          "text": [
            "[nltk_data] Downloading package averaged_perceptron_tagger to\n",
            "[nltk_data]     /root/nltk_data...\n",
            "[nltk_data]   Unzipping taggers/averaged_perceptron_tagger.zip.\n"
          ]
        },
        {
          "name": "stdout",
          "output_type": "stream",
          "text": [
            "Type your sentence: upon a time, there was a kind and adventurous boy named Jack. Jack loved exploring and going on exciting adventures. One day, Jack decided to go on a hike in the nearby forest. As he was walking, he heard a soft meowing sound.  Jack followed the sound and found a small, black kitten. The kitten was scared and alone. Jack picked up the kitten and carried her in his arms. He decided to take her home and give her a warm place to sleep and plenty of food to eat.  Jack named the kitten Luna, and she quickly became his best friend. They did everything together, playing in the park, exploring the woods, and snuggling up together to watch movies at night.  One day, Jack and Luna went on a hike and got lost. They wandered deeper and deeper into the woods, but they couldn't find their way back. Jack started to worry, but Luna stayed by his side, meowing softly to comfort him.  As they continued to wander, they stumbled upon a clearing where an old man was sitting by a campfire. The old man welcomed them and gave them food and water. Jack explained that they were lost, and the old man offered to help them find their way home.  The old man took them on a journey through the woods, showing them which paths to take and which to avoid. Finally, they arrived back at Jack's house, safe and sound.  From that day forward, Jack and Luna never went on another adventure without the old man's guidance. They were grateful to have each other and to have made a new friend who could help them when they needed it most.\n"
          ]
        },
        {
          "output_type": "execute_result",
          "data": {
            "text/plain": [
              "[('upon', 'IN'),\n",
              " ('a', 'DT'),\n",
              " ('time', 'NN'),\n",
              " (',', ','),\n",
              " ('there', 'EX'),\n",
              " ('was', 'VBD'),\n",
              " ('a', 'DT'),\n",
              " ('kind', 'NN'),\n",
              " ('and', 'CC'),\n",
              " ('adventurous', 'JJ'),\n",
              " ('boy', 'NN'),\n",
              " ('named', 'VBN'),\n",
              " ('Jack', 'NNP'),\n",
              " ('.', '.'),\n",
              " ('Jack', 'NNP'),\n",
              " ('loved', 'VBD'),\n",
              " ('exploring', 'VBG'),\n",
              " ('and', 'CC'),\n",
              " ('going', 'VBG'),\n",
              " ('on', 'IN'),\n",
              " ('exciting', 'VBG'),\n",
              " ('adventures', 'NNS'),\n",
              " ('.', '.'),\n",
              " ('One', 'CD'),\n",
              " ('day', 'NN'),\n",
              " (',', ','),\n",
              " ('Jack', 'NNP'),\n",
              " ('decided', 'VBD'),\n",
              " ('to', 'TO'),\n",
              " ('go', 'VB'),\n",
              " ('on', 'IN'),\n",
              " ('a', 'DT'),\n",
              " ('hike', 'NN'),\n",
              " ('in', 'IN'),\n",
              " ('the', 'DT'),\n",
              " ('nearby', 'JJ'),\n",
              " ('forest', 'NN'),\n",
              " ('.', '.'),\n",
              " ('As', 'IN'),\n",
              " ('he', 'PRP'),\n",
              " ('was', 'VBD'),\n",
              " ('walking', 'VBG'),\n",
              " (',', ','),\n",
              " ('he', 'PRP'),\n",
              " ('heard', 'VBD'),\n",
              " ('a', 'DT'),\n",
              " ('soft', 'JJ'),\n",
              " ('meowing', 'NN'),\n",
              " ('sound', 'NN'),\n",
              " ('.', '.'),\n",
              " ('Jack', 'NNP'),\n",
              " ('followed', 'VBD'),\n",
              " ('the', 'DT'),\n",
              " ('sound', 'NN'),\n",
              " ('and', 'CC'),\n",
              " ('found', 'VBD'),\n",
              " ('a', 'DT'),\n",
              " ('small', 'JJ'),\n",
              " (',', ','),\n",
              " ('black', 'JJ'),\n",
              " ('kitten', 'NN'),\n",
              " ('.', '.'),\n",
              " ('The', 'DT'),\n",
              " ('kitten', 'NN'),\n",
              " ('was', 'VBD'),\n",
              " ('scared', 'VBN'),\n",
              " ('and', 'CC'),\n",
              " ('alone', 'RB'),\n",
              " ('.', '.'),\n",
              " ('Jack', 'NNP'),\n",
              " ('picked', 'VBD'),\n",
              " ('up', 'RP'),\n",
              " ('the', 'DT'),\n",
              " ('kitten', 'NN'),\n",
              " ('and', 'CC'),\n",
              " ('carried', 'VBD'),\n",
              " ('her', 'PRP'),\n",
              " ('in', 'IN'),\n",
              " ('his', 'PRP$'),\n",
              " ('arms', 'NNS'),\n",
              " ('.', '.'),\n",
              " ('He', 'PRP'),\n",
              " ('decided', 'VBD'),\n",
              " ('to', 'TO'),\n",
              " ('take', 'VB'),\n",
              " ('her', 'PRP$'),\n",
              " ('home', 'NN'),\n",
              " ('and', 'CC'),\n",
              " ('give', 'VB'),\n",
              " ('her', 'PRP'),\n",
              " ('a', 'DT'),\n",
              " ('warm', 'JJ'),\n",
              " ('place', 'NN'),\n",
              " ('to', 'TO'),\n",
              " ('sleep', 'VB'),\n",
              " ('and', 'CC'),\n",
              " ('plenty', 'NN'),\n",
              " ('of', 'IN'),\n",
              " ('food', 'NN'),\n",
              " ('to', 'TO'),\n",
              " ('eat', 'VB'),\n",
              " ('.', '.'),\n",
              " ('Jack', 'NNP'),\n",
              " ('named', 'VBD'),\n",
              " ('the', 'DT'),\n",
              " ('kitten', 'NN'),\n",
              " ('Luna', 'NNP'),\n",
              " (',', ','),\n",
              " ('and', 'CC'),\n",
              " ('she', 'PRP'),\n",
              " ('quickly', 'RB'),\n",
              " ('became', 'VBD'),\n",
              " ('his', 'PRP$'),\n",
              " ('best', 'JJS'),\n",
              " ('friend', 'NN'),\n",
              " ('.', '.'),\n",
              " ('They', 'PRP'),\n",
              " ('did', 'VBD'),\n",
              " ('everything', 'NN'),\n",
              " ('together', 'RB'),\n",
              " (',', ','),\n",
              " ('playing', 'VBG'),\n",
              " ('in', 'IN'),\n",
              " ('the', 'DT'),\n",
              " ('park', 'NN'),\n",
              " (',', ','),\n",
              " ('exploring', 'VBG'),\n",
              " ('the', 'DT'),\n",
              " ('woods', 'NNS'),\n",
              " (',', ','),\n",
              " ('and', 'CC'),\n",
              " ('snuggling', 'VBG'),\n",
              " ('up', 'RP'),\n",
              " ('together', 'RB'),\n",
              " ('to', 'TO'),\n",
              " ('watch', 'VB'),\n",
              " ('movies', 'NNS'),\n",
              " ('at', 'IN'),\n",
              " ('night', 'NN'),\n",
              " ('.', '.'),\n",
              " ('One', 'CD'),\n",
              " ('day', 'NN'),\n",
              " (',', ','),\n",
              " ('Jack', 'NNP'),\n",
              " ('and', 'CC'),\n",
              " ('Luna', 'NNP'),\n",
              " ('went', 'VBD'),\n",
              " ('on', 'IN'),\n",
              " ('a', 'DT'),\n",
              " ('hike', 'NN'),\n",
              " ('and', 'CC'),\n",
              " ('got', 'VBD'),\n",
              " ('lost', 'VBN'),\n",
              " ('.', '.'),\n",
              " ('They', 'PRP'),\n",
              " ('wandered', 'VBD'),\n",
              " ('deeper', 'JJR'),\n",
              " ('and', 'CC'),\n",
              " ('deeper', 'RBR'),\n",
              " ('into', 'IN'),\n",
              " ('the', 'DT'),\n",
              " ('woods', 'NNS'),\n",
              " (',', ','),\n",
              " ('but', 'CC'),\n",
              " ('they', 'PRP'),\n",
              " ('could', 'MD'),\n",
              " (\"n't\", 'RB'),\n",
              " ('find', 'VB'),\n",
              " ('their', 'PRP$'),\n",
              " ('way', 'NN'),\n",
              " ('back', 'RB'),\n",
              " ('.', '.'),\n",
              " ('Jack', 'NNP'),\n",
              " ('started', 'VBD'),\n",
              " ('to', 'TO'),\n",
              " ('worry', 'VB'),\n",
              " (',', ','),\n",
              " ('but', 'CC'),\n",
              " ('Luna', 'NNP'),\n",
              " ('stayed', 'VBN'),\n",
              " ('by', 'IN'),\n",
              " ('his', 'PRP$'),\n",
              " ('side', 'NN'),\n",
              " (',', ','),\n",
              " ('meowing', 'VBG'),\n",
              " ('softly', 'RB'),\n",
              " ('to', 'TO'),\n",
              " ('comfort', 'VB'),\n",
              " ('him', 'PRP'),\n",
              " ('.', '.'),\n",
              " ('As', 'IN'),\n",
              " ('they', 'PRP'),\n",
              " ('continued', 'VBD'),\n",
              " ('to', 'TO'),\n",
              " ('wander', 'VB'),\n",
              " (',', ','),\n",
              " ('they', 'PRP'),\n",
              " ('stumbled', 'VBD'),\n",
              " ('upon', 'IN'),\n",
              " ('a', 'DT'),\n",
              " ('clearing', 'NN'),\n",
              " ('where', 'WRB'),\n",
              " ('an', 'DT'),\n",
              " ('old', 'JJ'),\n",
              " ('man', 'NN'),\n",
              " ('was', 'VBD'),\n",
              " ('sitting', 'VBG'),\n",
              " ('by', 'IN'),\n",
              " ('a', 'DT'),\n",
              " ('campfire', 'NN'),\n",
              " ('.', '.'),\n",
              " ('The', 'DT'),\n",
              " ('old', 'JJ'),\n",
              " ('man', 'NN'),\n",
              " ('welcomed', 'VBD'),\n",
              " ('them', 'PRP'),\n",
              " ('and', 'CC'),\n",
              " ('gave', 'VBD'),\n",
              " ('them', 'PRP'),\n",
              " ('food', 'NN'),\n",
              " ('and', 'CC'),\n",
              " ('water', 'NN'),\n",
              " ('.', '.'),\n",
              " ('Jack', 'NNP'),\n",
              " ('explained', 'VBD'),\n",
              " ('that', 'IN'),\n",
              " ('they', 'PRP'),\n",
              " ('were', 'VBD'),\n",
              " ('lost', 'VBN'),\n",
              " (',', ','),\n",
              " ('and', 'CC'),\n",
              " ('the', 'DT'),\n",
              " ('old', 'JJ'),\n",
              " ('man', 'NN'),\n",
              " ('offered', 'VBD'),\n",
              " ('to', 'TO'),\n",
              " ('help', 'VB'),\n",
              " ('them', 'PRP'),\n",
              " ('find', 'VB'),\n",
              " ('their', 'PRP$'),\n",
              " ('way', 'NN'),\n",
              " ('home', 'NN'),\n",
              " ('.', '.'),\n",
              " ('The', 'DT'),\n",
              " ('old', 'JJ'),\n",
              " ('man', 'NN'),\n",
              " ('took', 'VBD'),\n",
              " ('them', 'PRP'),\n",
              " ('on', 'IN'),\n",
              " ('a', 'DT'),\n",
              " ('journey', 'NN'),\n",
              " ('through', 'IN'),\n",
              " ('the', 'DT'),\n",
              " ('woods', 'NNS'),\n",
              " (',', ','),\n",
              " ('showing', 'VBG'),\n",
              " ('them', 'PRP'),\n",
              " ('which', 'WDT'),\n",
              " ('paths', 'VBZ'),\n",
              " ('to', 'TO'),\n",
              " ('take', 'VB'),\n",
              " ('and', 'CC'),\n",
              " ('which', 'WDT'),\n",
              " ('to', 'TO'),\n",
              " ('avoid', 'VB'),\n",
              " ('.', '.'),\n",
              " ('Finally', 'RB'),\n",
              " (',', ','),\n",
              " ('they', 'PRP'),\n",
              " ('arrived', 'VBD'),\n",
              " ('back', 'RB'),\n",
              " ('at', 'IN'),\n",
              " ('Jack', 'NNP'),\n",
              " (\"'s\", 'POS'),\n",
              " ('house', 'NN'),\n",
              " (',', ','),\n",
              " ('safe', 'JJ'),\n",
              " ('and', 'CC'),\n",
              " ('sound', 'JJ'),\n",
              " ('.', '.'),\n",
              " ('From', 'IN'),\n",
              " ('that', 'DT'),\n",
              " ('day', 'NN'),\n",
              " ('forward', 'RB'),\n",
              " (',', ','),\n",
              " ('Jack', 'NNP'),\n",
              " ('and', 'CC'),\n",
              " ('Luna', 'NNP'),\n",
              " ('never', 'RB'),\n",
              " ('went', 'VBD'),\n",
              " ('on', 'IN'),\n",
              " ('another', 'DT'),\n",
              " ('adventure', 'NN'),\n",
              " ('without', 'IN'),\n",
              " ('the', 'DT'),\n",
              " ('old', 'JJ'),\n",
              " ('man', 'NN'),\n",
              " (\"'s\", 'POS'),\n",
              " ('guidance', 'NN'),\n",
              " ('.', '.'),\n",
              " ('They', 'PRP'),\n",
              " ('were', 'VBD'),\n",
              " ('grateful', 'JJ'),\n",
              " ('to', 'TO'),\n",
              " ('have', 'VB'),\n",
              " ('each', 'DT'),\n",
              " ('other', 'JJ'),\n",
              " ('and', 'CC'),\n",
              " ('to', 'TO'),\n",
              " ('have', 'VB'),\n",
              " ('made', 'VBN'),\n",
              " ('a', 'DT'),\n",
              " ('new', 'JJ'),\n",
              " ('friend', 'NN'),\n",
              " ('who', 'WP'),\n",
              " ('could', 'MD'),\n",
              " ('help', 'VB'),\n",
              " ('them', 'PRP'),\n",
              " ('when', 'WRB'),\n",
              " ('they', 'PRP'),\n",
              " ('needed', 'VBD'),\n",
              " ('it', 'PRP'),\n",
              " ('most', 'JJS'),\n",
              " ('.', '.')]"
            ]
          },
          "metadata": {},
          "execution_count": 20
        }
      ]
    },
    {
      "cell_type": "code",
      "source": [
        "nltk.download('tagsets')\n",
        "# nltk.help.upenn_tagset()"
      ],
      "metadata": {
        "colab": {
          "base_uri": "https://localhost:8080/"
        },
        "id": "BwJv9iERcuuk",
        "outputId": "61e43b51-0895-45f6-a10b-cf31d3a9392a"
      },
      "execution_count": 21,
      "outputs": [
        {
          "output_type": "stream",
          "name": "stderr",
          "text": [
            "[nltk_data] Downloading package tagsets to /root/nltk_data...\n",
            "[nltk_data]   Unzipping help/tagsets.zip.\n"
          ]
        },
        {
          "output_type": "execute_result",
          "data": {
            "text/plain": [
              "True"
            ]
          },
          "metadata": {},
          "execution_count": 21
        }
      ]
    },
    {
      "cell_type": "code",
      "source": [
        "nltk.download(\"book\")"
      ],
      "metadata": {
        "colab": {
          "base_uri": "https://localhost:8080/"
        },
        "id": "oD4iXEvFcv-U",
        "outputId": "93288dfa-67b8-4581-9dd7-8740f7d5412b"
      },
      "execution_count": 22,
      "outputs": [
        {
          "output_type": "stream",
          "name": "stderr",
          "text": [
            "[nltk_data] Downloading collection 'book'\n",
            "[nltk_data]    | \n",
            "[nltk_data]    | Downloading package abc to /root/nltk_data...\n",
            "[nltk_data]    |   Unzipping corpora/abc.zip.\n",
            "[nltk_data]    | Downloading package brown to /root/nltk_data...\n",
            "[nltk_data]    |   Unzipping corpora/brown.zip.\n",
            "[nltk_data]    | Downloading package chat80 to /root/nltk_data...\n",
            "[nltk_data]    |   Unzipping corpora/chat80.zip.\n",
            "[nltk_data]    | Downloading package cmudict to /root/nltk_data...\n",
            "[nltk_data]    |   Unzipping corpora/cmudict.zip.\n",
            "[nltk_data]    | Downloading package conll2000 to /root/nltk_data...\n",
            "[nltk_data]    |   Unzipping corpora/conll2000.zip.\n",
            "[nltk_data]    | Downloading package conll2002 to /root/nltk_data...\n",
            "[nltk_data]    |   Unzipping corpora/conll2002.zip.\n",
            "[nltk_data]    | Downloading package dependency_treebank to\n",
            "[nltk_data]    |     /root/nltk_data...\n",
            "[nltk_data]    |   Unzipping corpora/dependency_treebank.zip.\n",
            "[nltk_data]    | Downloading package genesis to /root/nltk_data...\n",
            "[nltk_data]    |   Unzipping corpora/genesis.zip.\n",
            "[nltk_data]    | Downloading package gutenberg to /root/nltk_data...\n",
            "[nltk_data]    |   Unzipping corpora/gutenberg.zip.\n",
            "[nltk_data]    | Downloading package ieer to /root/nltk_data...\n",
            "[nltk_data]    |   Unzipping corpora/ieer.zip.\n",
            "[nltk_data]    | Downloading package inaugural to /root/nltk_data...\n",
            "[nltk_data]    |   Unzipping corpora/inaugural.zip.\n",
            "[nltk_data]    | Downloading package movie_reviews to\n",
            "[nltk_data]    |     /root/nltk_data...\n",
            "[nltk_data]    |   Unzipping corpora/movie_reviews.zip.\n",
            "[nltk_data]    | Downloading package nps_chat to /root/nltk_data...\n",
            "[nltk_data]    |   Unzipping corpora/nps_chat.zip.\n",
            "[nltk_data]    | Downloading package names to /root/nltk_data...\n",
            "[nltk_data]    |   Unzipping corpora/names.zip.\n",
            "[nltk_data]    | Downloading package ppattach to /root/nltk_data...\n",
            "[nltk_data]    |   Unzipping corpora/ppattach.zip.\n",
            "[nltk_data]    | Downloading package reuters to /root/nltk_data...\n",
            "[nltk_data]    | Downloading package senseval to /root/nltk_data...\n",
            "[nltk_data]    |   Unzipping corpora/senseval.zip.\n",
            "[nltk_data]    | Downloading package state_union to /root/nltk_data...\n",
            "[nltk_data]    |   Unzipping corpora/state_union.zip.\n",
            "[nltk_data]    | Downloading package stopwords to /root/nltk_data...\n",
            "[nltk_data]    |   Package stopwords is already up-to-date!\n",
            "[nltk_data]    | Downloading package swadesh to /root/nltk_data...\n",
            "[nltk_data]    |   Unzipping corpora/swadesh.zip.\n",
            "[nltk_data]    | Downloading package timit to /root/nltk_data...\n",
            "[nltk_data]    |   Unzipping corpora/timit.zip.\n",
            "[nltk_data]    | Downloading package treebank to /root/nltk_data...\n",
            "[nltk_data]    |   Unzipping corpora/treebank.zip.\n",
            "[nltk_data]    | Downloading package toolbox to /root/nltk_data...\n",
            "[nltk_data]    |   Unzipping corpora/toolbox.zip.\n",
            "[nltk_data]    | Downloading package udhr to /root/nltk_data...\n",
            "[nltk_data]    |   Unzipping corpora/udhr.zip.\n",
            "[nltk_data]    | Downloading package udhr2 to /root/nltk_data...\n",
            "[nltk_data]    |   Unzipping corpora/udhr2.zip.\n",
            "[nltk_data]    | Downloading package unicode_samples to\n",
            "[nltk_data]    |     /root/nltk_data...\n",
            "[nltk_data]    |   Unzipping corpora/unicode_samples.zip.\n",
            "[nltk_data]    | Downloading package webtext to /root/nltk_data...\n",
            "[nltk_data]    |   Unzipping corpora/webtext.zip.\n",
            "[nltk_data]    | Downloading package wordnet to /root/nltk_data...\n",
            "[nltk_data]    | Downloading package wordnet_ic to /root/nltk_data...\n",
            "[nltk_data]    |   Unzipping corpora/wordnet_ic.zip.\n",
            "[nltk_data]    | Downloading package words to /root/nltk_data...\n",
            "[nltk_data]    |   Unzipping corpora/words.zip.\n",
            "[nltk_data]    | Downloading package maxent_treebank_pos_tagger to\n",
            "[nltk_data]    |     /root/nltk_data...\n",
            "[nltk_data]    |   Unzipping taggers/maxent_treebank_pos_tagger.zip.\n",
            "[nltk_data]    | Downloading package maxent_ne_chunker to\n",
            "[nltk_data]    |     /root/nltk_data...\n",
            "[nltk_data]    |   Unzipping chunkers/maxent_ne_chunker.zip.\n",
            "[nltk_data]    | Downloading package universal_tagset to\n",
            "[nltk_data]    |     /root/nltk_data...\n",
            "[nltk_data]    |   Unzipping taggers/universal_tagset.zip.\n",
            "[nltk_data]    | Downloading package punkt to /root/nltk_data...\n",
            "[nltk_data]    |   Package punkt is already up-to-date!\n",
            "[nltk_data]    | Downloading package book_grammars to\n",
            "[nltk_data]    |     /root/nltk_data...\n",
            "[nltk_data]    |   Unzipping grammars/book_grammars.zip.\n",
            "[nltk_data]    | Downloading package city_database to\n",
            "[nltk_data]    |     /root/nltk_data...\n",
            "[nltk_data]    |   Unzipping corpora/city_database.zip.\n",
            "[nltk_data]    | Downloading package tagsets to /root/nltk_data...\n",
            "[nltk_data]    |   Package tagsets is already up-to-date!\n",
            "[nltk_data]    | Downloading package panlex_swadesh to\n",
            "[nltk_data]    |     /root/nltk_data...\n",
            "[nltk_data]    | Downloading package averaged_perceptron_tagger to\n",
            "[nltk_data]    |     /root/nltk_data...\n",
            "[nltk_data]    |   Package averaged_perceptron_tagger is already up-\n",
            "[nltk_data]    |       to-date!\n",
            "[nltk_data]    | \n",
            "[nltk_data]  Done downloading collection book\n"
          ]
        },
        {
          "output_type": "execute_result",
          "data": {
            "text/plain": [
              "True"
            ]
          },
          "metadata": {},
          "execution_count": 22
        }
      ]
    },
    {
      "cell_type": "code",
      "source": [
        "from nltk.book import *"
      ],
      "metadata": {
        "colab": {
          "base_uri": "https://localhost:8080/"
        },
        "id": "f597Wuomczc2",
        "outputId": "79d20eb0-5d1d-41bf-97ed-f0387e92d1f1"
      },
      "execution_count": 23,
      "outputs": [
        {
          "output_type": "stream",
          "name": "stdout",
          "text": [
            "*** Introductory Examples for the NLTK Book ***\n",
            "Loading text1, ..., text9 and sent1, ..., sent9\n",
            "Type the name of the text or sentence to view it.\n",
            "Type: 'texts()' or 'sents()' to list the materials.\n",
            "text1: Moby Dick by Herman Melville 1851\n",
            "text2: Sense and Sensibility by Jane Austen 1811\n",
            "text3: The Book of Genesis\n",
            "text4: Inaugural Address Corpus\n",
            "text5: Chat Corpus\n",
            "text6: Monty Python and the Holy Grail\n",
            "text7: Wall Street Journal\n",
            "text8: Personals Corpus\n",
            "text9: The Man Who Was Thursday by G . K . Chesterton 1908\n"
          ]
        }
      ]
    },
    {
      "cell_type": "code",
      "source": [
        "text8.concordance(\"man\")"
      ],
      "metadata": {
        "colab": {
          "base_uri": "https://localhost:8080/"
        },
        "id": "wZLQkTRgc2Ar",
        "outputId": "486df03e-8ae8-489d-f152-80d359bcc51a"
      },
      "execution_count": 24,
      "outputs": [
        {
          "output_type": "stream",
          "name": "stdout",
          "text": [
            "Displaying 14 of 14 matches:\n",
            " to hearing from you all . ABLE young man seeks , sexy older women . Phone for \n",
            "ble relationship . GENUINE ATTRACTIVE MAN 40 y . o ., no ties , secure , 5 ft .\n",
            "ship , and quality times . VIETNAMESE MAN Single , never married , financially \n",
            "ip . WELL DRESSED emotionally healthy man 37 like to meet full figured woman fo\n",
            " nth subs LIKE TO BE MISTRESS of YOUR MAN like to be treated well . Bold DTE no\n",
            "eeks lady in similar position MARRIED MAN 50 , attrac . fit , seeks lady 40 - 5\n",
            "eks nice girl 25 - 30 serious rship . Man 46 attractive fit , assertive , and k\n",
            " 40 - 50 sought by Aussie mid 40s b / man f / ship r / ship LOVE to meet widowe\n",
            "discreet times . Sth E Subs . MARRIED MAN 42yo 6ft , fit , seeks Lady for discr\n",
            "woman , seeks professional , employed man , with interests in theatre , dining \n",
            " tall and of large build seeks a good man . I am a nonsmoker , social drinker ,\n",
            "lead to relationship . SEEKING HONEST MAN I am 41 y . o ., 5 ft . 4 , med . bui\n",
            " quiet times . Seeks 35 - 45 , honest man with good SOH & similar interests , f\n",
            " genuine , caring , honest and normal man for fship , poss rship . S / S , S / \n"
          ]
        }
      ]
    },
    {
      "cell_type": "code",
      "source": [
        "import nltk\n",
        "\n",
        "# Define some plain text\n",
        "text = input(\"Paste your text: \")\n",
        "\n",
        "# Tokenize the text into a list of words\n",
        "tokens = nltk.word_tokenize(text)\n",
        "\n",
        "# Create an nltk.Text object from the list of tokens\n",
        "text_object = nltk.Text(tokens)\n",
        "\n",
        "# Use the concordance method to find occurrences of the word \"fox\"\n",
        "text_object.concordance(\"be\")"
      ],
      "metadata": {
        "colab": {
          "base_uri": "https://localhost:8080/"
        },
        "id": "kL1vRCnUc4dt",
        "outputId": "11763211-4694-4ec0-fc6b-abf350937031"
      },
      "execution_count": 25,
      "outputs": [
        {
          "output_type": "stream",
          "name": "stdout",
          "text": [
            "Paste your text: DNA trail Everybody loves a good story, and when it's finished, this may be the greatest one ever told. It begins in Africa with a group of people. There are perhaps just a few hundred, surviving by hunting animals and gathering fruits, vegetables, and nuts. It ends about 200,000 years later, with their seven billion descendants spread across the Earth.  In between is an exciting tale of survival, movement, isolation, and conquest, most of it occurring before recorded history. Who were those first modern people in Africa? What routes did they take when they left their home continent to expand into Europe and Asia? When and how did humans reach the Americas? For decades, the only proof was found in a small number of scattered bones and artifacts that our ancestors had left behind. In the past 20 years, however, DNA technologies have allowed scientists to find a record of ancient human migrations in the DNA of living people.  Tracing Ancestry in DNA.  \"Every drop of human blood contains a history book written in the language of our genes,\" says population geneticist Spencer Wells. The human genetic code, or genome, is 99.9 percent identical throughout the world. The bulk of our DNA is the same. However, the remainder is responsible for our individual differences -- in eye color or disease risk, for example. On very rare occasions, a small change -- called a mutation -- can occur. This can then be passed down to all of that person's descendants. Generations later, finding that same mutation in two people's DNA indicates that they share the same ancestor. By comparing mutations in many different populations, scientists can trace their ancestral connections.  These ancient mutations are easiest to tract in two places. One is in DNA that is passed from mother to child (called mitochondrial DNA, or mtDNA). The other is in DNA that travels from father to son (known as the Y chromosome, the part of DNA that determines a child will be a boy). By comparing the mtDNA and Y chromosomes of people from various populations, geneticists can get a rough idea of where and when those groups separated in the great migrations around the planet.  Out of Africa  In the mid-1980s, a study compared mtDNA from people around the world. It found that people of African descent had twice as many genetic differences from each other than did others. Because mutations seem to occur at a steady rate over time, scientists concluded that modern humans must have lived in Africa at least twice as long as anywhere else. They now calculate that all living humans maternally descend from a single woman who lived roughly 150,000 years ago in Africa, a \"mitochondrial Eve.\" If geneticists are right, all of humanity is linked to Eve through an unbroken chain of mothers. This Eve was soon joined by \"Y-chromosome Adam,\" the possible genetic father of us all, also from Africa. DNA studies have confirmed that all the people on Earth can trace their ancestry to ancient Africans.  What seems certain is that at a remarkably recent date -- probably between 50,000 and 70,000 years ago -- one small group of people, the ancestors of modern humans outside of Africa, left Africa for western Asia. They either migrated around the wider northern end of the Red Sea, or across its narrow southern opening.  Once in Asia, genetic evidence suggests, the population split. One group stayed temporarily in the Middle East, while the other began a journey that would last tens of thousands of years. Moving a little farther with each new generation, they followed the coast around the Arabian Peninsula, India, and Southeast Asia, all the way to Australia. \"The movement was probably imperceptible,\" says Spencer Wells. \"It was less of a journey and probably more like walking a little farther down the beach to get away from the crowd.\"  Archeological evidence of this 13,000-kilometer migration from Africa to Australia has almost completely vanished. However, genetic traces of the group that made the trip do exist. They have been found in the DNA of indigenous peoples in Malaysia, in Papua New Guinea, and in the DNA of nearly all Australian aborigines. Modern discoveries of 45,000-year-old bodies in Australia, buried at a site called Lake Mungo, provide physical evidence for the theories as well.  People in the rest of Asia and Europe share different but equally ancient mtDNA and Y-chromosome mutations. These mutations show that most are descendants of the group that stayed in the Middle East for thousands of years before moving on. Perhaps about 40,000 years ago, modern humans first advanced into Europe.  Peopling the Americas  About the same time as modern humans pushed into Europe, some of the same group that had paused in the Middle East spread east into Central Asia. They eventually reached as fas as Siberia, the Korean Peninsula, and Japan. Here begins one of the last chapters in the human story -- the peopling of the Americas. Most scientists believe that today's Native Americans descend from ancient Asians who crossed from Siberia to Alaske in the last ice age. At that time, low sea levels would have exposed a land bridge between the continents. Perhaps they -- only a few hundred people -- were travelling along the coast, moving from one piece of land to the next, between a freezing ocean and a wall of ice. \"A coastal route would have been the easiest way in,\" says Wells. \"But it still would have been a hell of a trip.\" Once across, they followed the immense herds of animals into the mainland. They spread to the tip of South America in as little as a thousand years.  Genetic researchers can only tell us the basic outlines of a story of human migration that is more complex than any ever written. Many details of the movements of our ancestors and their countless individual lives can only be imagined. But thanks to genetic researchers -- themselves descendants of mtDNA Eve and Y-chromosome Adam -- we have begun to unlock important secrets about the origins and movements of our ancient ancestors.\n",
            "Displaying 4 of 4 matches:\n",
            " , and when it 's finished , this may be the greatest one ever told . It begin\n",
            "mutation -- can occur . This can then be passed down to all of that person 's \n",
            "t of DNA that determines a child will be a boy ) . By comparing the mtDNA and \n",
            "r countless individual lives can only be imagined . But thanks to genetic rese\n"
          ]
        }
      ]
    }
  ]
}